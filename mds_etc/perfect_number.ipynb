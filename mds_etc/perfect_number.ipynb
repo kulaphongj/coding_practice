{
 "cells": [
  {
   "cell_type": "code",
   "execution_count": 1,
   "id": "f37c21b5",
   "metadata": {
    "ExecuteTime": {
     "end_time": "2023-09-12T02:11:28.997435Z",
     "start_time": "2023-09-12T02:11:28.982814Z"
    }
   },
   "outputs": [],
   "source": [
    "from tqdm import tqdm_notebook as tqdm"
   ]
  },
  {
   "cell_type": "code",
   "execution_count": 35,
   "id": "c514c721",
   "metadata": {
    "ExecuteTime": {
     "end_time": "2023-09-12T02:54:40.301593Z",
     "start_time": "2023-09-12T02:54:40.298545Z"
    }
   },
   "outputs": [],
   "source": [
    "input1 = 1\n",
    "input2 = 10000"
   ]
  },
  {
   "cell_type": "code",
   "execution_count": 38,
   "id": "62cb6bb1",
   "metadata": {
    "ExecuteTime": {
     "end_time": "2023-09-12T02:54:55.612574Z",
     "start_time": "2023-09-12T02:54:53.982264Z"
    }
   },
   "outputs": [
    {
     "name": "stderr",
     "output_type": "stream",
     "text": [
      "/var/folders/8y/pz7j2fcs17q_j4xz5yspd4qc0000gn/T/ipykernel_2346/1300979483.py:3: TqdmDeprecationWarning: This function will be removed in tqdm==5.0.0\n",
      "Please use `tqdm.notebook.tqdm` instead of `tqdm.tqdm_notebook`\n",
      "  for number in tqdm(range(input1, input2+1)):\n"
     ]
    },
    {
     "data": {
      "application/vnd.jupyter.widget-view+json": {
       "model_id": "0eb300115f1c4e7ebf4b357276f7da48",
       "version_major": 2,
       "version_minor": 0
      },
      "text/plain": [
       "  0%|          | 0/10000 [00:00<?, ?it/s]"
      ]
     },
     "metadata": {},
     "output_type": "display_data"
    },
    {
     "name": "stdout",
     "output_type": "stream",
     "text": [
      "This is the perfect number: 6\n",
      "This is the perfect number: 28\n",
      "This is the perfect number: 496\n",
      "This is the perfect number: 8128\n",
      "[6, 28, 496, 8128]\n"
     ]
    }
   ],
   "source": [
    "list_perf_no = []\n",
    "\n",
    "for number in tqdm(range(input1, input2+1)):\n",
    "    half_input1 = number//2\n",
    "#     print(\"half_input1\", half_input1)\n",
    "\n",
    "    list_divisors = []\n",
    "    for i in range(1, half_input1+1):\n",
    "#         print(\"number and i:\", number, i)\n",
    "        if number%i==0:\n",
    "#             print('%')\n",
    "            list_divisors.append(i)\n",
    "\n",
    "    if sum(list_divisors)==number:\n",
    "        print('This is the perfect number:', number)\n",
    "        list_perf_no.append(number)\n",
    "\n",
    "print(list_perf_no)"
   ]
  },
  {
   "cell_type": "code",
   "execution_count": null,
   "id": "3443954a",
   "metadata": {},
   "outputs": [],
   "source": []
  }
 ],
 "metadata": {
  "kernelspec": {
   "display_name": "Python 3 (ipykernel)",
   "language": "python",
   "name": "python3"
  },
  "language_info": {
   "codemirror_mode": {
    "name": "ipython",
    "version": 3
   },
   "file_extension": ".py",
   "mimetype": "text/x-python",
   "name": "python",
   "nbconvert_exporter": "python",
   "pygments_lexer": "ipython3",
   "version": "3.9.6"
  },
  "toc": {
   "base_numbering": 1,
   "nav_menu": {},
   "number_sections": true,
   "sideBar": true,
   "skip_h1_title": false,
   "title_cell": "Table of Contents",
   "title_sidebar": "Contents",
   "toc_cell": false,
   "toc_position": {},
   "toc_section_display": true,
   "toc_window_display": false
  }
 },
 "nbformat": 4,
 "nbformat_minor": 5
}
