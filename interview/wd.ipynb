{
 "cells": [
  {
   "cell_type": "code",
   "execution_count": 152,
   "id": "0e083ced",
   "metadata": {
    "ExecuteTime": {
     "end_time": "2024-06-22T17:42:00.558533Z",
     "start_time": "2024-06-22T17:42:00.550292Z"
    }
   },
   "outputs": [
    {
     "data": {
      "text/plain": [
       "{}"
      ]
     },
     "execution_count": 152,
     "metadata": {},
     "output_type": "execute_result"
    }
   ],
   "source": [
    "class Skills:\n",
    "    def __init__(self):\n",
    "        self.skills = {}\n",
    "        \n",
    "    def add_skill(self, dict_skill):\n",
    "        for skill_i in dict_skill:\n",
    "            if skill_i in self.skills:\n",
    "                self.skills[skill_i] = round((self.skills[skill_i]+dict_skill[skill_i])/2, 1)\n",
    "            else:\n",
    "                self.skills[skill_i] = dict_skill[skill_i]\n",
    "                \n",
    "skill_cls = Skills()\n",
    "skill_cls.skills"
   ]
  },
  {
   "cell_type": "code",
   "execution_count": 153,
   "id": "3129727d",
   "metadata": {
    "ExecuteTime": {
     "end_time": "2024-06-22T17:42:00.698282Z",
     "start_time": "2024-06-22T17:42:00.692132Z"
    }
   },
   "outputs": [
    {
     "name": "stdout",
     "output_type": "stream",
     "text": [
      "test1 pass\n"
     ]
    }
   ],
   "source": [
    "# test 1\n",
    "list_skills = [{\"skill_1\": 0.5}, \n",
    "               {\"skill_2\": 0.4},\n",
    "               {\"skill_2\": 0.8}]\n",
    "\n",
    "expected_output = {'skill_1': 0.5, 'skill_2': 0.6}\n",
    "\n",
    "for skill in list_skills:\n",
    "    skill_cls.add_skill(skill)\n",
    "\n",
    "if skill_cls.skills==expected_output:\n",
    "    print(\"test1 pass\")\n",
    "\n"
   ]
  },
  {
   "cell_type": "code",
   "execution_count": 155,
   "id": "604a7ed3",
   "metadata": {
    "ExecuteTime": {
     "end_time": "2024-06-22T17:42:25.838827Z",
     "start_time": "2024-06-22T17:42:25.817867Z"
    }
   },
   "outputs": [
    {
     "data": {
      "text/plain": [
       "{}"
      ]
     },
     "execution_count": 155,
     "metadata": {},
     "output_type": "execute_result"
    }
   ],
   "source": [
    "class Skills:\n",
    "    def __init__(self):\n",
    "        self.emp = {}\n",
    "        \n",
    "    def add_skill(self, dict_skill):\n",
    "        dict_skill_in = dict_skill.copy()\n",
    "        skills = {}\n",
    "        try:\n",
    "            del dict_skill_in['employee']\n",
    "        except:\n",
    "            pass\n",
    "        for key, val in dict_skill_in.items():\n",
    "            if key =='source':\n",
    "                source = val\n",
    "            else:\n",
    "                skill = key\n",
    "                sign = val\n",
    "        return skill, sign, source\n",
    "                \n",
    "    def add_employee(self, dict_emp):\n",
    "       \n",
    "        if dict_emp['employee'] in skill_cls.emp.keys(): \n",
    "            em_skill = skill_cls.emp[dict_emp['employee']]\n",
    "            skill, sign, source = self.add_skill(dict_emp)\n",
    "\n",
    "            if skill in em_skill.keys():\n",
    "                cur_sig = self.emp[dict_emp['employee']][skill]['significant']\n",
    "                self.emp[dict_emp['employee']][skill]['significant'] = round((cur_sig+sign)/2, 1)\n",
    "                cur_source = self.emp[dict_emp['employee']][skill]['source']\n",
    "                new_soruce = list(set(cur_source + [source]))\n",
    "                new_soruce.sort()\n",
    "                self.emp[dict_emp['employee']][skill]['source'] = list(new_soruce)\n",
    "                \n",
    "            else:\n",
    "                skills = {}\n",
    "                skills['significant'] = sign\n",
    "                skills['source'] = [source]\n",
    "                self.emp[dict_emp['employee']][skill] = skills            \n",
    "            \n",
    "        else:\n",
    "            skills = {}\n",
    "            skill, sign, source = self.add_skill(dict_emp)\n",
    "            skills['significant'] = sign\n",
    "            skills['source'] = [source]\n",
    "            self.emp[dict_emp['employee']] = {}\n",
    "            self.emp[dict_emp['employee']][skill] = skills\n",
    "            \n",
    "skill_cls = Skills2()\n",
    "skill_cls.emp"
   ]
  },
  {
   "cell_type": "code",
   "execution_count": 156,
   "id": "5000dc98",
   "metadata": {
    "ExecuteTime": {
     "end_time": "2024-06-22T17:42:25.947972Z",
     "start_time": "2024-06-22T17:42:25.937838Z"
    }
   },
   "outputs": [
    {
     "name": "stdout",
     "output_type": "stream",
     "text": [
      "test2 pass\n"
     ]
    }
   ],
   "source": [
    "# test 2\n",
    "list_skills = [{\"employee\": \"emp1\", \"skill_1\": 0.5, 'source': 'source_A'}, \n",
    "               {\"employee\": \"emp1\", \"skill_2\": 0.4, 'source': 'source_B'},\n",
    "               {\"employee\": \"emp2\", \"skill_2\": 0.2, 'source': 'source_A'},\n",
    "               {\"employee\": \"emp2\", \"skill_2\": 0.4, 'source': 'source_B'},\n",
    "               {\"employee\": \"emp2\", \"skill_3\": 0.9, 'source': 'source_B'},\n",
    "               {\"employee\": \"emp3\", \"skill_4\": 0.8, 'source': 'source_C'}]\n",
    "\n",
    "\n",
    "expected_output = {'emp1':{'skill_1': {'significant': 0.5, 'source': ['source_A']}, \n",
    "                           'skill_2': {'significant': 0.4, 'source': ['source_B']}\n",
    "                          },\n",
    "                   'emp2':{'skill_2': {'significant': 0.3, 'source': ['source_A', 'source_B']}, \n",
    "                           'skill_3': {'significant': 0.9, 'source': ['source_B']}\n",
    "                          },\n",
    "                   'emp3':{'skill_4': {'significant': 0.8, 'source': ['source_C']}}\n",
    "                  }\n",
    "\n",
    "# Tets 2\n",
    "for skill in list_skills:\n",
    "    skill_cls.add_employee(skill)\n",
    "\n",
    "if skill_cls.emp==expected_output:\n",
    "    print(\"test2 pass\")\n",
    "else:\n",
    "    print('test2 fail')"
   ]
  },
  {
   "cell_type": "code",
   "execution_count": 157,
   "id": "53a40985",
   "metadata": {
    "ExecuteTime": {
     "end_time": "2024-06-22T17:42:26.122605Z",
     "start_time": "2024-06-22T17:42:26.117269Z"
    }
   },
   "outputs": [
    {
     "data": {
      "text/plain": [
       "{'emp1': {'skill_1': {'significant': 0.5, 'source': ['source_A']},\n",
       "  'skill_2': {'significant': 0.4, 'source': ['source_B']}},\n",
       " 'emp2': {'skill_2': {'significant': 0.3, 'source': ['source_A', 'source_B']},\n",
       "  'skill_3': {'significant': 0.9, 'source': ['source_B']}},\n",
       " 'emp3': {'skill_4': {'significant': 0.8, 'source': ['source_C']}}}"
      ]
     },
     "execution_count": 157,
     "metadata": {},
     "output_type": "execute_result"
    }
   ],
   "source": [
    "skill_cls.emp"
   ]
  },
  {
   "cell_type": "code",
   "execution_count": 158,
   "id": "f93395d2",
   "metadata": {
    "ExecuteTime": {
     "end_time": "2024-06-22T17:42:26.237776Z",
     "start_time": "2024-06-22T17:42:26.231459Z"
    }
   },
   "outputs": [
    {
     "data": {
      "text/plain": [
       "{'emp1': {'skill_1': {'significant': 0.5, 'source': ['source_A']},\n",
       "  'skill_2': {'significant': 0.4, 'source': ['source_B']}},\n",
       " 'emp2': {'skill_2': {'significant': 0.3, 'source': ['source_A', 'source_B']},\n",
       "  'skill_3': {'significant': 0.9, 'source': ['source_B']}},\n",
       " 'emp3': {'skill_4': {'significant': 0.8, 'source': ['source_C']}}}"
      ]
     },
     "execution_count": 158,
     "metadata": {},
     "output_type": "execute_result"
    }
   ],
   "source": [
    "expected_output"
   ]
  },
  {
   "cell_type": "code",
   "execution_count": null,
   "id": "25bbcaec",
   "metadata": {},
   "outputs": [],
   "source": []
  },
  {
   "cell_type": "code",
   "execution_count": null,
   "id": "8be96a19",
   "metadata": {},
   "outputs": [],
   "source": []
  },
  {
   "cell_type": "code",
   "execution_count": null,
   "id": "323cceb3",
   "metadata": {},
   "outputs": [],
   "source": []
  }
 ],
 "metadata": {
  "kernelspec": {
   "display_name": "Python 3 (ipykernel)",
   "language": "python",
   "name": "python3"
  },
  "language_info": {
   "codemirror_mode": {
    "name": "ipython",
    "version": 3
   },
   "file_extension": ".py",
   "mimetype": "text/x-python",
   "name": "python",
   "nbconvert_exporter": "python",
   "pygments_lexer": "ipython3",
   "version": "3.9.6"
  },
  "toc": {
   "base_numbering": 1,
   "nav_menu": {},
   "number_sections": false,
   "sideBar": true,
   "skip_h1_title": false,
   "title_cell": "Table of Contents",
   "title_sidebar": "Contents",
   "toc_cell": false,
   "toc_position": {},
   "toc_section_display": true,
   "toc_window_display": false
  }
 },
 "nbformat": 4,
 "nbformat_minor": 5
}
