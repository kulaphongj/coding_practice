{
 "cells": [
  {
   "cell_type": "markdown",
   "id": "fe75808f",
   "metadata": {},
   "source": [
    "# Easy"
   ]
  },
  {
   "cell_type": "markdown",
   "id": "8ba7d55f",
   "metadata": {},
   "source": [
    "## Q9.1\n",
    "Given two arrays, write a function to get the intersection of the two. For example, if A=[1,2,3,4,5] and B=[0,1,3,7] then you should return [1,3]."
   ]
  },
  {
   "cell_type": "code",
   "execution_count": 36,
   "id": "04a5309e",
   "metadata": {
    "ExecuteTime": {
     "end_time": "2024-06-22T17:54:47.603616Z",
     "start_time": "2024-06-22T17:54:47.596911Z"
    }
   },
   "outputs": [
    {
     "data": {
      "text/plain": [
       "[1, 3]"
      ]
     },
     "execution_count": 36,
     "metadata": {},
     "output_type": "execute_result"
    }
   ],
   "source": [
    "def find_intersection(a, b):\n",
    "    set_a = set(a)\n",
    "    set_b = set(b)\n",
    "    set_res = set_a & set_b\n",
    "\n",
    "    return list(set_res)\n",
    "\n",
    "A = [1,2,3,4,5]\n",
    "B = [0,1,3,7] \n",
    "find_intersection(A, B)"
   ]
  },
  {
   "cell_type": "code",
   "execution_count": 37,
   "id": "d4b8e7c0",
   "metadata": {
    "ExecuteTime": {
     "end_time": "2024-06-22T17:54:47.787902Z",
     "start_time": "2024-06-22T17:54:47.779109Z"
    }
   },
   "outputs": [
    {
     "data": {
      "text/plain": [
       "[1, 3]"
      ]
     },
     "execution_count": 37,
     "metadata": {},
     "output_type": "execute_result"
    }
   ],
   "source": [
    "# Solution\n",
    "def find_intersection(a, b):\n",
    "    set_a = set(a)\n",
    "    set_b = set(b)\n",
    "    if len(set_a)<len(set_b):\n",
    "        return [x for x in set_a if x in set_b]\n",
    "    else:\n",
    "        return [x for x in set_b if x in set_a]\n",
    "        \n",
    "    return res\n",
    "\n",
    "A = [1,2,3,4,5]\n",
    "B = [0,1,3,7] \n",
    "find_intersection(A, B)"
   ]
  },
  {
   "cell_type": "markdown",
   "id": "264e5f60",
   "metadata": {},
   "source": [
    "## Q9.2"
   ]
  },
  {
   "cell_type": "code",
   "execution_count": 117,
   "id": "95127a09",
   "metadata": {
    "ExecuteTime": {
     "end_time": "2024-06-22T19:47:09.817599Z",
     "start_time": "2024-06-22T19:47:09.802094Z"
    }
   },
   "outputs": [
    {
     "name": "stdout",
     "output_type": "stream",
     "text": [
      "60\n",
      "40\n",
      "200\n",
      "12500\n"
     ]
    }
   ],
   "source": [
    "def prob_92(a):\n",
    "    list_p = []\n",
    "    list_n = []\n",
    "    for i in a:\n",
    "        if i >=0:\n",
    "            list_p.append(i)\n",
    "\n",
    "        else:\n",
    "            list_n.append(i)\n",
    "\n",
    "    # check count negative should >= 2\n",
    "    if len(list_n)>=2:\n",
    "        list_n.sort(reverse=True)\n",
    "        list_top2_n  = list_n[-2:]\n",
    "        list_top2_n = [-1*i for i in list_top2_n]  # convert to positive\n",
    "        sum_n = list_top2_n[-2]*list_top2_n[-1]\n",
    "\n",
    "        list_p.sort()\n",
    "        list_top2 = list_p[-2:]\n",
    "        sum_ptop2 = list_top2[-2]*list_top2[-1]\n",
    "        if len(list_p)>=3:\n",
    "            n_and_maxp = sum_n*list_p[-1]\n",
    "            sum_p = list_p[-3]*list_p[-2]*list_p[-1]\n",
    "            if n_and_maxp>sum_p:\n",
    "                return n_and_maxp\n",
    "            else:\n",
    "                return sum_p\n",
    "        else:\n",
    "            sum_p = max(list_top2)*sum_n\n",
    "            return sum_p\n",
    "\n",
    "    else:\n",
    "        list_p.sort()\n",
    "        \n",
    "        product_p = list_p[-3]*list_p[-2]*list_p[-1]\n",
    "        return product_p\n",
    "\n",
    "# Test\n",
    "A = [1, 3, 4, 5]\n",
    "ans = prob_92(A)\n",
    "print(ans)\n",
    "assert ans==60\n",
    "\n",
    "B = [-2, -4, 5, 3]\n",
    "ans = prob_92(B)\n",
    "print(ans)\n",
    "assert ans==40\n",
    "\n",
    "C = [-2, -4, -5, 5, 3, 10]\n",
    "ans = prob_92(C)\n",
    "print(ans)\n",
    "assert ans==200\n",
    "\n",
    "D = [-2, -4, -5, -20, 5, 3, 25, 100]\n",
    "ans = prob_92(D)\n",
    "print(ans)\n",
    "assert ans==(5*25*100)"
   ]
  },
  {
   "cell_type": "code",
   "execution_count": 118,
   "id": "48c6ba3e",
   "metadata": {
    "ExecuteTime": {
     "end_time": "2024-06-22T19:47:10.250500Z",
     "start_time": "2024-06-22T19:47:10.240071Z"
    }
   },
   "outputs": [
    {
     "name": "stdout",
     "output_type": "stream",
     "text": [
      "60\n",
      "40\n",
      "200\n",
      "12500\n"
     ]
    }
   ],
   "source": [
    "# Solution\n",
    "import heapq\n",
    "def max_three(arr):\n",
    "    a = heapq.nlargest(3, arr)  # largest 3 numbers\n",
    "    b = heapq.nsmallest(2, arr)  # smallest 2 (for negatives case)\n",
    "    return max(a[2]*a[1]*a[0], b[1]*b[0]*a[0])\n",
    "    \n",
    "# Test\n",
    "A = [1, 3, 4, 5]\n",
    "ans = max_three(A)\n",
    "print(ans)\n",
    "assert ans==60\n",
    "\n",
    "B = [-2, -4, 5, 3]\n",
    "ans = max_three(B)\n",
    "print(ans)\n",
    "assert ans==40\n",
    "\n",
    "C = [-2, -4, -5, 5, 3, 10]\n",
    "ans = max_three(C)\n",
    "print(ans)\n",
    "assert ans==200\n",
    "\n",
    "D = [-2, -4, -5, -20, 5, 3, 25, 100]\n",
    "ans = max_three(D)\n",
    "print(ans)\n",
    "assert ans==(5*25*100)"
   ]
  },
  {
   "cell_type": "markdown",
   "id": "0103b190",
   "metadata": {},
   "source": [
    "## Q9.3"
   ]
  },
  {
   "cell_type": "code",
   "execution_count": 213,
   "id": "56f5f368",
   "metadata": {
    "ExecuteTime": {
     "end_time": "2024-06-22T21:38:24.274594Z",
     "start_time": "2024-06-22T21:38:24.266116Z"
    }
   },
   "outputs": [
    {
     "name": "stdout",
     "output_type": "stream",
     "text": [
      "[[-1, -1], [2, -1], [-2, 2]]\n"
     ]
    }
   ],
   "source": [
    "def cal_euclidean_dist(coordinate):\n",
    "    x1 = coordinate[0]\n",
    "    y1 = coordinate[1]\n",
    "    dist = (y1)**2 + (x1)**2\n",
    "    \n",
    "    return dist\n",
    "\n",
    "def find_k_nearest(list_coords_fnc):\n",
    "    list_res = []\n",
    "    list_dist = []\n",
    "    for idx, coord in enumerate(list_coords_fnc):\n",
    "        distance = cal_euclidean_dist(coord)\n",
    "        list_dist.append(distance)\n",
    "\n",
    "    for i in range(3):\n",
    "        list_res.append(list_coords_fnc[list_dist.index(min(list_dist))])\n",
    "        list_coords_fnc.remove(list_coords_fnc[list_dist.index(min(list_dist))])\n",
    "        list_dist.remove(min(list_dist))\n",
    "\n",
    "    return list_res\n",
    "\n",
    "list_coords = [[2,-1], [3,2], [4,1], [-1,-1], [-2,2]]\n",
    "expected_outcome = [[-1, -1], [2, -1], [-2, 2]]\n",
    "\n",
    "list_res = find_k_nearest(list_coords)\n",
    "print(list_res)\n",
    "assert list_res==expected_outcome"
   ]
  },
  {
   "cell_type": "code",
   "execution_count": 219,
   "id": "bb2416ae",
   "metadata": {
    "ExecuteTime": {
     "end_time": "2024-06-22T21:43:44.307724Z",
     "start_time": "2024-06-22T21:43:44.299659Z"
    }
   },
   "outputs": [
    {
     "name": "stdout",
     "output_type": "stream",
     "text": [
      "[(5, [2, -1])]\n",
      "[(5, [2, -1]), (13, [3, 2])]\n",
      "[(5, [2, -1]), (13, [3, 2]), (17, [4, 1])]\n",
      "[(2, [-1, -1]), (5, [2, -1]), (17, [4, 1]), (13, [3, 2])]\n",
      "[(2, [-1, -1]), (5, [2, -1]), (17, [4, 1]), (13, [3, 2]), (8, [-2, 2])]\n",
      "get top k:\n",
      "[(5, [2, -1]), (8, [-2, 2]), (17, [4, 1]), (13, [3, 2])]\n",
      "[(8, [-2, 2]), (13, [3, 2]), (17, [4, 1])]\n",
      "[(13, [3, 2]), (17, [4, 1])]\n",
      "[[-1, -1], [2, -1], [-2, 2]]\n"
     ]
    }
   ],
   "source": [
    "# Solution\n",
    "from heapq import heappush, heappop\n",
    "\n",
    "def closest(points, k):\n",
    "    def get_dist(x, y):\n",
    "        return x**2 + y**2\n",
    "    \n",
    "    min_heap = []\n",
    "    n = len(points)\n",
    "    for i in range(n):\n",
    "        x = points[i][0]\n",
    "        y = points[i][1]\n",
    "        heappush(min_heap, (get_dist(x, y), points[i]))  # add to heap\n",
    "        print(min_heap)\n",
    "    \n",
    "    print(\"get top k:\")\n",
    "    res = []\n",
    "    for i in range(k):\n",
    "        # [1] get top k coordinate, [0] get the distance\n",
    "        res.append(heappop(min_heap)[1])  \n",
    "        print(min_heap)\n",
    "    return res\n",
    "\n",
    "list_coords = [[2,-1], [3,2], [4,1], [-1,-1], [-2,2]]\n",
    "expected_outcome = [[-1, -1], [2, -1], [-2, 2]]\n",
    "\n",
    "list_res = closest(list_coords, k=3)\n",
    "print(list_res)\n",
    "assert list_res==expected_outcome"
   ]
  },
  {
   "cell_type": "markdown",
   "id": "d50021f0",
   "metadata": {},
   "source": [
    "## Q9.4"
   ]
  },
  {
   "cell_type": "code",
   "execution_count": 247,
   "id": "827dd6c0",
   "metadata": {
    "ExecuteTime": {
     "end_time": "2024-06-22T22:53:06.142464Z",
     "start_time": "2024-06-22T22:52:53.787256Z"
    }
   },
   "outputs": [
    {
     "name": "stdout",
     "output_type": "stream",
     "text": [
      "1.52 µs ± 12.1 ns per loop (mean ± std. dev. of 7 runs, 1,000,000 loops each)\n"
     ]
    }
   ],
   "source": [
    "%%timeit\n",
    "k = 4\n",
    "matrix = [[1, 4, 7], [3, 5, 9], [6, 8, 11]]\n",
    "\n",
    "nrow = len(matrix)\n",
    "ncol = len(matrix[0])\n",
    "ntotal = nrow * ncol\n",
    "\n",
    "list_all = []\n",
    "for r in range(nrow):\n",
    "    for c in range(ncol):\n",
    "        list_all.append(matrix[r][c])\n",
    "\n",
    "list_all.sort()\n",
    "list_all[k-1]"
   ]
  },
  {
   "cell_type": "code",
   "execution_count": 246,
   "id": "b502acd0",
   "metadata": {
    "ExecuteTime": {
     "end_time": "2024-06-22T22:52:53.633660Z",
     "start_time": "2024-06-22T22:52:51.448627Z"
    }
   },
   "outputs": [
    {
     "name": "stdout",
     "output_type": "stream",
     "text": [
      "2.66 µs ± 29.8 ns per loop (mean ± std. dev. of 7 runs, 100,000 loops each)\n"
     ]
    }
   ],
   "source": [
    "%%timeit\n",
    "# Solution\n",
    "from heapq import heappush, heappop\n",
    "\n",
    "def smallest(m, k):\n",
    "    n = len(m)\n",
    "    heap =[]\n",
    "    res = -1\n",
    "    for i in range(min(k, n)):\n",
    "        for j in range(min(k, n)):\n",
    "            heappush(heap, m[i][j])  # add to heap\n",
    "            \n",
    "    for _ in range(k):\n",
    "        res = heappop(heap)\n",
    "    return res\n",
    "\n",
    "smallest(matrix, 4)"
   ]
  },
  {
   "cell_type": "markdown",
   "id": "01782458",
   "metadata": {},
   "source": [
    "## Q9.5"
   ]
  },
  {
   "cell_type": "code",
   "execution_count": 6,
   "id": "74744e74",
   "metadata": {
    "ExecuteTime": {
     "end_time": "2024-06-23T05:28:13.349345Z",
     "start_time": "2024-06-23T05:28:13.341782Z"
    }
   },
   "outputs": [
    {
     "data": {
      "text/plain": [
       "25"
      ]
     },
     "execution_count": 6,
     "metadata": {},
     "output_type": "execute_result"
    }
   ],
   "source": [
    "def find_sumlargest(list_fnc):\n",
    "    res = 0\n",
    "    for idx in range(len(list_fnc)-1):\n",
    "        cur_sum = list_fnc[idx]+list_fnc[idx+1]\n",
    "        if cur_sum>res:\n",
    "            res = cur_sum\n",
    "    return res\n",
    "\n",
    "A = [-1, -3, 5, 20, -4, 3, -6, 9, 2]\n",
    "find_sumlargest(A)"
   ]
  },
  {
   "cell_type": "markdown",
   "id": "2e43b674",
   "metadata": {},
   "source": [
    "## Q9.6"
   ]
  },
  {
   "cell_type": "code",
   "execution_count": 64,
   "id": "7d748181",
   "metadata": {
    "ExecuteTime": {
     "end_time": "2024-06-23T19:33:37.543839Z",
     "start_time": "2024-06-23T19:33:37.536326Z"
    },
    "scrolled": true
   },
   "outputs": [],
   "source": [
    "class TreeNode:\n",
    "    def __init__(self, val):\n",
    "        self.val = val\n",
    "        self.left = None\n",
    "        self.right = None\n",
    "\n",
    "t1 = TreeNode(10)\n",
    "t1.left = TreeNode(1)\n",
    "t1.left.left = TreeNode(2)\n",
    "t1.left.right = TreeNode(3)\n",
    "t1.right = TreeNode(4)\n",
    "t1.right.left = TreeNode(5)\n",
    "t1.right.right = TreeNode(6)\n",
    "\n",
    "t2 = TreeNode(10)\n",
    "t2.left = TreeNode(1)\n",
    "t2.left.left = TreeNode(2)\n",
    "t2.right = TreeNode(1)\n",
    "t2.right.right = TreeNode(2)\n",
    "\n",
    "t3 = TreeNode(10)\n",
    "t3.right = TreeNode(1)\n",
    "t3.right.left = TreeNode(3)\n",
    "t3.right.right = TreeNode(2)\n",
    "\n",
    "t3.left = TreeNode(1)\n",
    "t3.left.left = TreeNode(2)\n",
    "t3.left.right = TreeNode(3)\n",
    "\n"
   ]
  },
  {
   "cell_type": "code",
   "execution_count": 69,
   "id": "6dfcf2c6",
   "metadata": {
    "ExecuteTime": {
     "end_time": "2024-06-23T19:37:35.203403Z",
     "start_time": "2024-06-23T19:37:35.196735Z"
    }
   },
   "outputs": [
    {
     "name": "stdout",
     "output_type": "stream",
     "text": [
      "False\n",
      "True\n",
      "True\n"
     ]
    }
   ],
   "source": [
    "def is_mirror(root):\n",
    "    if root.val is None:\n",
    "        return True\n",
    "    \n",
    "    return compare_next(root.left, root.right)\n",
    "\n",
    "def compare_next(l, r):\n",
    "    if (l is None) & (r ==None):\n",
    "        return True\n",
    "    elif (l is None) | (r ==None):\n",
    "        return False\n",
    "        \n",
    "    conditions = (l.val == r.val) and compare_next(l.left, r.right) and compare_next(l.right, r.left)\n",
    "    return conditions\n",
    "\n",
    "\n",
    "print(is_mirror(t1))\n",
    "print(is_mirror(t2))\n",
    "print(is_mirror(t3))"
   ]
  },
  {
   "cell_type": "code",
   "execution_count": 65,
   "id": "77d22ff6",
   "metadata": {
    "ExecuteTime": {
     "end_time": "2024-06-23T19:33:38.332269Z",
     "start_time": "2024-06-23T19:33:38.322534Z"
    }
   },
   "outputs": [
    {
     "name": "stdout",
     "output_type": "stream",
     "text": [
      "1 4\n",
      "False\n",
      "1 1\n",
      "2 2\n",
      "True\n",
      "1 1\n",
      "2 2\n",
      "3 3\n",
      "True\n"
     ]
    }
   ],
   "source": [
    "# Solution\n",
    "def is_mirror(root):\n",
    "    if root is None:\n",
    "        return True\n",
    "    return helper(root.left, root.right)\n",
    "\n",
    "def helper(x, y):\n",
    "    if (x is None and y is None):\n",
    "        return True\n",
    "    elif (x is None or y is None):\n",
    "        return False\n",
    "    \n",
    "    print(x.val, y.val)\n",
    "    return x.val==y.val and helper(x.left, y.right) and helper(x.right, y.left)\n",
    "    \n",
    "\n",
    "print(is_mirror(t1))\n",
    "print(is_mirror(t2))\n",
    "print(is_mirror(t3))\n"
   ]
  },
  {
   "cell_type": "code",
   "execution_count": null,
   "id": "e5c765fc",
   "metadata": {},
   "outputs": [],
   "source": []
  },
  {
   "cell_type": "code",
   "execution_count": null,
   "id": "f10f7e5b",
   "metadata": {},
   "outputs": [],
   "source": []
  },
  {
   "cell_type": "code",
   "execution_count": null,
   "id": "303514e2",
   "metadata": {},
   "outputs": [],
   "source": []
  },
  {
   "cell_type": "code",
   "execution_count": null,
   "id": "716cc3a3",
   "metadata": {},
   "outputs": [],
   "source": []
  }
 ],
 "metadata": {
  "kernelspec": {
   "display_name": "Python 3 (ipykernel)",
   "language": "python",
   "name": "python3"
  },
  "language_info": {
   "codemirror_mode": {
    "name": "ipython",
    "version": 3
   },
   "file_extension": ".py",
   "mimetype": "text/x-python",
   "name": "python",
   "nbconvert_exporter": "python",
   "pygments_lexer": "ipython3",
   "version": "3.9.6"
  },
  "toc": {
   "base_numbering": 1,
   "nav_menu": {},
   "number_sections": false,
   "sideBar": true,
   "skip_h1_title": false,
   "title_cell": "Table of Contents",
   "title_sidebar": "Contents",
   "toc_cell": false,
   "toc_position": {
    "height": "calc(100% - 180px)",
    "left": "10px",
    "top": "150px",
    "width": "165px"
   },
   "toc_section_display": true,
   "toc_window_display": true
  }
 },
 "nbformat": 4,
 "nbformat_minor": 5
}
