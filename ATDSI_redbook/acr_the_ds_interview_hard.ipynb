{
 "cells": [
  {
   "cell_type": "markdown",
   "id": "a23a58ea",
   "metadata": {},
   "source": [
    "# Hard"
   ]
  },
  {
   "cell_type": "markdown",
   "id": "f0c3c0d2",
   "metadata": {},
   "source": [
    "# Q 9.25"
   ]
  },
  {
   "cell_type": "code",
   "execution_count": null,
   "id": "3f1ea664",
   "metadata": {},
   "outputs": [],
   "source": []
  },
  {
   "cell_type": "code",
   "execution_count": null,
   "id": "f65bdd1d",
   "metadata": {},
   "outputs": [],
   "source": []
  },
  {
   "cell_type": "markdown",
   "id": "fcf97d40",
   "metadata": {},
   "source": [
    "# Q 9.26"
   ]
  },
  {
   "cell_type": "code",
   "execution_count": null,
   "id": "e8d10b89",
   "metadata": {},
   "outputs": [],
   "source": []
  },
  {
   "cell_type": "code",
   "execution_count": null,
   "id": "d22380f1",
   "metadata": {},
   "outputs": [],
   "source": []
  },
  {
   "cell_type": "markdown",
   "id": "1adb17a9",
   "metadata": {
    "ExecuteTime": {
     "end_time": "2024-06-26T21:28:58.163773Z",
     "start_time": "2024-06-26T21:28:58.160952Z"
    }
   },
   "source": [
    "# Q 9.27"
   ]
  },
  {
   "cell_type": "code",
   "execution_count": null,
   "id": "8752ed01",
   "metadata": {},
   "outputs": [],
   "source": []
  },
  {
   "cell_type": "code",
   "execution_count": null,
   "id": "f4710f1d",
   "metadata": {},
   "outputs": [],
   "source": []
  },
  {
   "cell_type": "markdown",
   "id": "a2566643",
   "metadata": {
    "ExecuteTime": {
     "end_time": "2024-06-26T21:29:00.032768Z",
     "start_time": "2024-06-26T21:29:00.029887Z"
    }
   },
   "source": [
    "# Q 9.28"
   ]
  },
  {
   "cell_type": "code",
   "execution_count": null,
   "id": "4fb7a72b",
   "metadata": {},
   "outputs": [],
   "source": []
  },
  {
   "cell_type": "code",
   "execution_count": null,
   "id": "adbf0f3e",
   "metadata": {},
   "outputs": [],
   "source": []
  },
  {
   "cell_type": "markdown",
   "id": "76d5cc0a",
   "metadata": {
    "ExecuteTime": {
     "end_time": "2024-06-26T21:29:03.658147Z",
     "start_time": "2024-06-26T21:29:03.653413Z"
    }
   },
   "source": [
    "# Q 9.29"
   ]
  },
  {
   "cell_type": "code",
   "execution_count": null,
   "id": "2159cfc9",
   "metadata": {},
   "outputs": [],
   "source": []
  },
  {
   "cell_type": "code",
   "execution_count": null,
   "id": "a9b36348",
   "metadata": {},
   "outputs": [],
   "source": []
  },
  {
   "cell_type": "markdown",
   "id": "eedda44a",
   "metadata": {},
   "source": [
    "# Q 9.30"
   ]
  },
  {
   "cell_type": "code",
   "execution_count": null,
   "id": "03a363ff",
   "metadata": {},
   "outputs": [],
   "source": []
  },
  {
   "cell_type": "code",
   "execution_count": null,
   "id": "2b893385",
   "metadata": {},
   "outputs": [],
   "source": []
  }
 ],
 "metadata": {
  "kernelspec": {
   "display_name": "Python 3 (ipykernel)",
   "language": "python",
   "name": "python3"
  },
  "language_info": {
   "codemirror_mode": {
    "name": "ipython",
    "version": 3
   },
   "file_extension": ".py",
   "mimetype": "text/x-python",
   "name": "python",
   "nbconvert_exporter": "python",
   "pygments_lexer": "ipython3",
   "version": "3.9.6"
  },
  "toc": {
   "base_numbering": 1,
   "nav_menu": {},
   "number_sections": false,
   "sideBar": true,
   "skip_h1_title": false,
   "title_cell": "Table of Contents",
   "title_sidebar": "Contents",
   "toc_cell": false,
   "toc_position": {
    "height": "calc(100% - 180px)",
    "left": "10px",
    "top": "150px",
    "width": "165px"
   },
   "toc_section_display": true,
   "toc_window_display": true
  }
 },
 "nbformat": 4,
 "nbformat_minor": 5
}
