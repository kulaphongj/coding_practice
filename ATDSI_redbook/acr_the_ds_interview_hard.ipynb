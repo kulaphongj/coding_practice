{
 "cells": [
  {
   "cell_type": "markdown",
   "id": "a23a58ea",
   "metadata": {},
   "source": [
    "# Hard"
   ]
  },
  {
   "cell_type": "markdown",
   "id": "f0c3c0d2",
   "metadata": {},
   "source": [
    "# Q 9.25"
   ]
  },
  {
   "cell_type": "code",
   "execution_count": 21,
   "id": "ed78d787",
   "metadata": {
    "ExecuteTime": {
     "end_time": "2024-07-05T19:37:20.214195Z",
     "start_time": "2024-07-05T19:37:20.206129Z"
    }
   },
   "outputs": [
    {
     "data": {
      "text/plain": [
       "9"
      ]
     },
     "execution_count": 21,
     "metadata": {},
     "output_type": "execute_result"
    }
   ],
   "source": [
    "string = \")(())(,\"\n",
    "string = \"())(())(,\"\n",
    "string = \"())((()))(,()(((((s))))()()\"\n",
    "\n",
    "length = 0\n",
    "stack_p = []\n",
    "for idx, s in enumerate(string):\n",
    "    if s==\"(\":\n",
    "        stack_p.append(idx)\n",
    "    elif s==\")\":\n",
    "        if stack_p:\n",
    "            idx_s = stack_p.pop()\n",
    "            length = max(length, (idx-idx_s) + 1)\n",
    "length"
   ]
  },
  {
   "cell_type": "code",
   "execution_count": 22,
   "id": "82ad8242",
   "metadata": {
    "ExecuteTime": {
     "end_time": "2024-07-05T19:39:34.208391Z",
     "start_time": "2024-07-05T19:39:34.200737Z"
    }
   },
   "outputs": [
    {
     "data": {
      "text/plain": [
       "24"
      ]
     },
     "execution_count": 22,
     "metadata": {},
     "output_type": "execute_result"
    }
   ],
   "source": [
    "# Solution\n",
    "def longest_parens(s):\n",
    "    stack = []\n",
    "    longest = 0\n",
    "    n = len(s)\n",
    "    stack.append(-1)  # initial dummy value\n",
    "    for i in range(n):\n",
    "        if s[i]==\"(\":\n",
    "            stack.append(i)\n",
    "        else:\n",
    "            stack.pop()\n",
    "            if len(stack)==0:\n",
    "                stack.append(i)\n",
    "            else:\n",
    "                longest = max(longest, i-stack[-1])\n",
    "    return longest\n",
    "\n",
    "string = \"())((()))(,()(((((s))))()()\"\n",
    "longest_parens(string)\n",
    "\n",
    "# Wrong solution?"
   ]
  },
  {
   "cell_type": "markdown",
   "id": "fcf97d40",
   "metadata": {},
   "source": [
    "# Q 9.26"
   ]
  },
  {
   "cell_type": "code",
   "execution_count": 36,
   "id": "9ead1f9d",
   "metadata": {
    "ExecuteTime": {
     "end_time": "2024-07-05T22:48:11.472411Z",
     "start_time": "2024-07-05T22:48:11.462580Z"
    }
   },
   "outputs": [],
   "source": [
    "# Solution\n",
    "def longest_increasing_parth(mx):\n",
    "    table = {}  # cache\n",
    "    if len(mx)==0:\n",
    "        return 0\n",
    "    \n",
    "    m = len(mx)\n",
    "    n = len(mx[0])\n",
    "    \n",
    "    def dfs(i, j, prev, table):  # DFS helper\n",
    "        # edge case\n",
    "        if (i<0 or i>=len(mx) or j<0 or j >= len(mx[0]) or mx[i][j]<=prev):\n",
    "            return 0\n",
    "        if (i, j) in table:\n",
    "            return table[(i, j)]  # get cached value\n",
    "        curr_len = 1 + max(dfs(i-1, j, mx[i][j], table),\n",
    "                           dfs(i+1, j, mx[i][j], table),\n",
    "                           dfs(i, j-1, mx[i][j], table),\n",
    "                           dfs(i, j+1, mx[i][j], table))\n",
    "        table[(i, j)] = curr_len  # get max\n",
    "        return curr_len\n",
    "    \n",
    "    for i in range(m):  # call DFS from each i,j\n",
    "        for j in range(n):\n",
    "            dfs(i, j, -float(\"Inf\"), table)  # set initial max and table\n",
    "    return max(table.values())\n",
    "        "
   ]
  },
  {
   "cell_type": "code",
   "execution_count": 37,
   "id": "87e4857e",
   "metadata": {
    "ExecuteTime": {
     "end_time": "2024-07-05T22:48:11.632500Z",
     "start_time": "2024-07-05T22:48:11.626448Z"
    }
   },
   "outputs": [
    {
     "data": {
      "text/plain": [
       "8"
      ]
     },
     "execution_count": 37,
     "metadata": {},
     "output_type": "execute_result"
    }
   ],
   "source": [
    "matrix = [[1,2,3], [4,5,6], [7,8,9], [12,11,10]]\n",
    "\n",
    "longest_increasing_parth(matrix)"
   ]
  },
  {
   "cell_type": "markdown",
   "id": "1adb17a9",
   "metadata": {
    "ExecuteTime": {
     "end_time": "2024-06-26T21:28:58.163773Z",
     "start_time": "2024-06-26T21:28:58.160952Z"
    }
   },
   "source": [
    "# Q 9.27"
   ]
  },
  {
   "cell_type": "code",
   "execution_count": 40,
   "id": "eb51f8f4",
   "metadata": {
    "ExecuteTime": {
     "end_time": "2024-07-05T22:57:06.742627Z",
     "start_time": "2024-07-05T22:57:06.734593Z"
    }
   },
   "outputs": [
    {
     "data": {
      "text/plain": [
       "3"
      ]
     },
     "execution_count": 40,
     "metadata": {},
     "output_type": "execute_result"
    }
   ],
   "source": [
    "# Solution O(N^2)\n",
    "def consecutive_sum(n):\n",
    "    num = 0\n",
    "    for i in range(1, n+1):\n",
    "        total = 0\n",
    "        while total<n:\n",
    "            total = total+i\n",
    "            i += 1\n",
    "        if total ==n :\n",
    "            num += 1\n",
    "    return num\n",
    "\n",
    "consecutive_sum(9)    "
   ]
  },
  {
   "cell_type": "code",
   "execution_count": 38,
   "id": "fb7bcbeb",
   "metadata": {
    "ExecuteTime": {
     "end_time": "2024-07-05T22:55:19.872677Z",
     "start_time": "2024-07-05T22:55:19.865386Z"
    }
   },
   "outputs": [
    {
     "data": {
      "text/plain": [
       "3"
      ]
     },
     "execution_count": 38,
     "metadata": {},
     "output_type": "execute_result"
    }
   ],
   "source": [
    "# Solution O(N)\n",
    "import math\n",
    "def consecutive_sum(n):\n",
    "    upper_limit = int(math.sqrt(2*n))\n",
    "    num = 0\n",
    "    for m in range(upper_limit):\n",
    "        if (2*n)%(m+1)==0 and (2*n/(m+1)-m)%2==0:\n",
    "            num += 1\n",
    "    return num\n",
    "consecutive_sum(9)"
   ]
  },
  {
   "cell_type": "markdown",
   "id": "a2566643",
   "metadata": {
    "ExecuteTime": {
     "end_time": "2024-06-26T21:29:00.032768Z",
     "start_time": "2024-06-26T21:29:00.029887Z"
    }
   },
   "source": [
    "# Q 9.28"
   ]
  },
  {
   "cell_type": "code",
   "execution_count": 75,
   "id": "e7e5a04a",
   "metadata": {
    "ExecuteTime": {
     "end_time": "2024-07-05T23:22:12.316544Z",
     "start_time": "2024-07-05T23:22:12.309525Z"
    }
   },
   "outputs": [],
   "source": [
    "# Solution\n",
    "import heapq\n",
    "\n",
    "class MedianFinder(object):\n",
    "    def __init__(self):\n",
    "        self.min_heap = []\n",
    "        self.max_heap = []\n",
    "    \n",
    "    def add_num(self, num):\n",
    "        heapq.heappush(self.max_heap, -num)  # add negative for max heap\n",
    "        heapq.heappush(self.min_heap, -heapq.heappop(self.max_heap))\n",
    "        if (len(self.min_heap)>len(self.max_heap)):\n",
    "            # balance heaps\n",
    "            heapq.heappush(self.max_heap, -heapq.heappop(self.min_heap))\n",
    "            \n",
    "    def find_median(self):\n",
    "        if len(self.max_heap) > len(self.min_heap):  # return max heap value\n",
    "            return 1*-self.max_heap[0]\n",
    "        else:  # return average of two\n",
    "            return 1*(self.min_heap[0]-self.max_heap[0])/2"
   ]
  },
  {
   "cell_type": "code",
   "execution_count": 84,
   "id": "8d8a6f05",
   "metadata": {
    "ExecuteTime": {
     "end_time": "2024-07-05T23:23:35.305076Z",
     "start_time": "2024-07-05T23:23:35.294022Z"
    },
    "scrolled": true
   },
   "outputs": [
    {
     "name": "stdout",
     "output_type": "stream",
     "text": [
      "[-1] []\n",
      "[-1] [2]\n",
      "[-2, -1] [3]\n",
      "[-2, -1] [3, 4]\n",
      "[-3, -1, -2] [4, 5]\n",
      "[-3, -1, -2] [4, 5, 6]\n",
      "[-4, -3, -2, -1] [5, 7, 6]\n"
     ]
    },
    {
     "data": {
      "text/plain": [
       "4"
      ]
     },
     "execution_count": 84,
     "metadata": {},
     "output_type": "execute_result"
    }
   ],
   "source": [
    "t = MedianFinder()\n",
    "t.add_num(1)\n",
    "print(t.max_heap, t.min_heap)\n",
    "t.add_num(2)\n",
    "print(t.max_heap, t.min_heap)\n",
    "t.add_num(3)\n",
    "print(t.max_heap, t.min_heap)\n",
    "t.add_num(4)\n",
    "print(t.max_heap, t.min_heap)\n",
    "t.add_num(5)\n",
    "print(t.max_heap, t.min_heap)\n",
    "t.add_num(6)\n",
    "print(t.max_heap, t.min_heap)\n",
    "t.add_num(7)\n",
    "print(t.max_heap, t.min_heap)\n",
    "t.find_median()"
   ]
  },
  {
   "cell_type": "markdown",
   "id": "76d5cc0a",
   "metadata": {
    "ExecuteTime": {
     "end_time": "2024-06-26T21:29:03.658147Z",
     "start_time": "2024-06-26T21:29:03.653413Z"
    }
   },
   "source": [
    "# Q 9.29"
   ]
  },
  {
   "cell_type": "code",
   "execution_count": 144,
   "id": "628e7fbe",
   "metadata": {
    "ExecuteTime": {
     "end_time": "2024-07-06T03:51:21.241937Z",
     "start_time": "2024-07-06T03:51:21.230740Z"
    }
   },
   "outputs": [],
   "source": [
    "import pandas as pd\n",
    "# Solution\n",
    "def wildcard_match(string, regex):\n",
    "    m = len(string)\n",
    "    n = len(regex)\n",
    "    dp = [[False for _ in range(n+1)] for _ in range(m+1)]  # initialization\n",
    "    print(\"Initialization\")\n",
    "    dp[0][0] = True\n",
    "    print(pd.DataFrame(dp))\n",
    "    for j in range(1, n+1):  # filling in Trues for any *s\n",
    "        if regex[j-1]!=\"*\":\n",
    "            print(pd.DataFrame(dp))\n",
    "            break\n",
    "        dp[0][j] = True\n",
    "    for i in range(1, m+1):\n",
    "        for j in range(1, n+1):\n",
    "            if regex[j-1] == \"?\" or regex[j-1] == string[i-1]:  # case 1\n",
    "                dp[i][j] = dp[i-1][j-1]\n",
    "            elif regex[j-1]==\"*\":  # case 2\n",
    "                dp[i][j] = dp[i-1][j-1] or dp[i][j-1] or dp[i-1][j]\n",
    "            print(pd.DataFrame(dp))\n",
    "    return dp[-1][-1]"
   ]
  },
  {
   "cell_type": "code",
   "execution_count": 145,
   "id": "a35eb722",
   "metadata": {
    "ExecuteTime": {
     "end_time": "2024-07-06T03:51:21.997496Z",
     "start_time": "2024-07-06T03:51:21.938749Z"
    }
   },
   "outputs": [
    {
     "name": "stdout",
     "output_type": "stream",
     "text": [
      "Initialization\n",
      "       0      1      2      3      4      5\n",
      "0   True  False  False  False  False  False\n",
      "1  False  False  False  False  False  False\n",
      "2  False  False  False  False  False  False\n",
      "3  False  False  False  False  False  False\n",
      "4  False  False  False  False  False  False\n",
      "5  False  False  False  False  False  False\n",
      "6  False  False  False  False  False  False\n",
      "       0      1      2      3      4      5\n",
      "0   True  False  False  False  False  False\n",
      "1  False  False  False  False  False  False\n",
      "2  False  False  False  False  False  False\n",
      "3  False  False  False  False  False  False\n",
      "4  False  False  False  False  False  False\n",
      "5  False  False  False  False  False  False\n",
      "6  False  False  False  False  False  False\n",
      "       0      1      2      3      4      5\n",
      "0   True  False  False  False  False  False\n",
      "1  False   True  False  False  False  False\n",
      "2  False  False  False  False  False  False\n",
      "3  False  False  False  False  False  False\n",
      "4  False  False  False  False  False  False\n",
      "5  False  False  False  False  False  False\n",
      "6  False  False  False  False  False  False\n",
      "       0      1      2      3      4      5\n",
      "0   True  False  False  False  False  False\n",
      "1  False   True   True  False  False  False\n",
      "2  False  False  False  False  False  False\n",
      "3  False  False  False  False  False  False\n",
      "4  False  False  False  False  False  False\n",
      "5  False  False  False  False  False  False\n",
      "6  False  False  False  False  False  False\n",
      "       0      1      2      3      4      5\n",
      "0   True  False  False  False  False  False\n",
      "1  False   True   True  False  False  False\n",
      "2  False  False  False  False  False  False\n",
      "3  False  False  False  False  False  False\n",
      "4  False  False  False  False  False  False\n",
      "5  False  False  False  False  False  False\n",
      "6  False  False  False  False  False  False\n",
      "       0      1      2      3      4      5\n",
      "0   True  False  False  False  False  False\n",
      "1  False   True   True  False  False  False\n",
      "2  False  False  False  False  False  False\n",
      "3  False  False  False  False  False  False\n",
      "4  False  False  False  False  False  False\n",
      "5  False  False  False  False  False  False\n",
      "6  False  False  False  False  False  False\n",
      "       0      1      2      3      4      5\n",
      "0   True  False  False  False  False  False\n",
      "1  False   True   True  False  False  False\n",
      "2  False  False  False  False  False  False\n",
      "3  False  False  False  False  False  False\n",
      "4  False  False  False  False  False  False\n",
      "5  False  False  False  False  False  False\n",
      "6  False  False  False  False  False  False\n",
      "       0      1      2      3      4      5\n",
      "0   True  False  False  False  False  False\n",
      "1  False   True   True  False  False  False\n",
      "2  False  False  False  False  False  False\n",
      "3  False  False  False  False  False  False\n",
      "4  False  False  False  False  False  False\n",
      "5  False  False  False  False  False  False\n",
      "6  False  False  False  False  False  False\n",
      "       0      1      2      3      4      5\n",
      "0   True  False  False  False  False  False\n",
      "1  False   True   True  False  False  False\n",
      "2  False  False   True  False  False  False\n",
      "3  False  False  False  False  False  False\n",
      "4  False  False  False  False  False  False\n",
      "5  False  False  False  False  False  False\n",
      "6  False  False  False  False  False  False\n",
      "       0      1      2      3      4      5\n",
      "0   True  False  False  False  False  False\n",
      "1  False   True   True  False  False  False\n",
      "2  False  False   True  False  False  False\n",
      "3  False  False  False  False  False  False\n",
      "4  False  False  False  False  False  False\n",
      "5  False  False  False  False  False  False\n",
      "6  False  False  False  False  False  False\n",
      "       0      1      2      3      4      5\n",
      "0   True  False  False  False  False  False\n",
      "1  False   True   True  False  False  False\n",
      "2  False  False   True  False  False  False\n",
      "3  False  False  False  False  False  False\n",
      "4  False  False  False  False  False  False\n",
      "5  False  False  False  False  False  False\n",
      "6  False  False  False  False  False  False\n",
      "       0      1      2      3      4      5\n",
      "0   True  False  False  False  False  False\n",
      "1  False   True   True  False  False  False\n",
      "2  False  False   True  False  False  False\n",
      "3  False  False  False  False  False  False\n",
      "4  False  False  False  False  False  False\n",
      "5  False  False  False  False  False  False\n",
      "6  False  False  False  False  False  False\n",
      "       0      1      2      3      4      5\n",
      "0   True  False  False  False  False  False\n",
      "1  False   True   True  False  False  False\n",
      "2  False  False   True  False  False  False\n",
      "3  False  False  False  False  False  False\n",
      "4  False  False  False  False  False  False\n",
      "5  False  False  False  False  False  False\n",
      "6  False  False  False  False  False  False\n",
      "       0      1      2      3      4      5\n",
      "0   True  False  False  False  False  False\n",
      "1  False   True   True  False  False  False\n",
      "2  False  False   True  False  False  False\n",
      "3  False  False   True  False  False  False\n",
      "4  False  False  False  False  False  False\n",
      "5  False  False  False  False  False  False\n",
      "6  False  False  False  False  False  False\n",
      "       0      1      2      3      4      5\n",
      "0   True  False  False  False  False  False\n",
      "1  False   True   True  False  False  False\n",
      "2  False  False   True  False  False  False\n",
      "3  False  False   True   True  False  False\n",
      "4  False  False  False  False  False  False\n",
      "5  False  False  False  False  False  False\n",
      "6  False  False  False  False  False  False\n",
      "       0      1      2      3      4      5\n",
      "0   True  False  False  False  False  False\n",
      "1  False   True   True  False  False  False\n",
      "2  False  False   True  False  False  False\n",
      "3  False  False   True   True  False  False\n",
      "4  False  False  False  False  False  False\n",
      "5  False  False  False  False  False  False\n",
      "6  False  False  False  False  False  False\n",
      "       0      1      2      3      4      5\n",
      "0   True  False  False  False  False  False\n",
      "1  False   True   True  False  False  False\n",
      "2  False  False   True  False  False  False\n",
      "3  False  False   True   True  False  False\n",
      "4  False  False  False  False  False  False\n",
      "5  False  False  False  False  False  False\n",
      "6  False  False  False  False  False  False\n",
      "       0      1      2      3      4      5\n",
      "0   True  False  False  False  False  False\n",
      "1  False   True   True  False  False  False\n",
      "2  False  False   True  False  False  False\n",
      "3  False  False   True   True  False  False\n",
      "4  False  False  False  False  False  False\n",
      "5  False  False  False  False  False  False\n",
      "6  False  False  False  False  False  False\n",
      "       0      1      2      3      4      5\n",
      "0   True  False  False  False  False  False\n",
      "1  False   True   True  False  False  False\n",
      "2  False  False   True  False  False  False\n",
      "3  False  False   True   True  False  False\n",
      "4  False  False   True  False  False  False\n",
      "5  False  False  False  False  False  False\n",
      "6  False  False  False  False  False  False\n",
      "       0      1      2      3      4      5\n",
      "0   True  False  False  False  False  False\n",
      "1  False   True   True  False  False  False\n",
      "2  False  False   True  False  False  False\n",
      "3  False  False   True   True  False  False\n",
      "4  False  False   True  False  False  False\n",
      "5  False  False  False  False  False  False\n",
      "6  False  False  False  False  False  False\n",
      "       0      1      2      3      4      5\n",
      "0   True  False  False  False  False  False\n",
      "1  False   True   True  False  False  False\n",
      "2  False  False   True  False  False  False\n",
      "3  False  False   True   True  False  False\n",
      "4  False  False   True  False   True  False\n",
      "5  False  False  False  False  False  False\n",
      "6  False  False  False  False  False  False\n",
      "       0      1      2      3      4      5\n",
      "0   True  False  False  False  False  False\n",
      "1  False   True   True  False  False  False\n",
      "2  False  False   True  False  False  False\n",
      "3  False  False   True   True  False  False\n",
      "4  False  False   True  False   True   True\n",
      "5  False  False  False  False  False  False\n",
      "6  False  False  False  False  False  False\n",
      "       0      1      2      3      4      5\n",
      "0   True  False  False  False  False  False\n",
      "1  False   True   True  False  False  False\n",
      "2  False  False   True  False  False  False\n",
      "3  False  False   True   True  False  False\n",
      "4  False  False   True  False   True   True\n",
      "5  False  False  False  False  False  False\n",
      "6  False  False  False  False  False  False\n",
      "       0      1      2      3      4      5\n",
      "0   True  False  False  False  False  False\n",
      "1  False   True   True  False  False  False\n",
      "2  False  False   True  False  False  False\n",
      "3  False  False   True   True  False  False\n",
      "4  False  False   True  False   True   True\n",
      "5  False  False   True  False  False  False\n",
      "6  False  False  False  False  False  False\n",
      "       0      1      2      3      4      5\n",
      "0   True  False  False  False  False  False\n",
      "1  False   True   True  False  False  False\n",
      "2  False  False   True  False  False  False\n",
      "3  False  False   True   True  False  False\n",
      "4  False  False   True  False   True   True\n",
      "5  False  False   True  False  False  False\n",
      "6  False  False  False  False  False  False\n",
      "       0      1      2      3      4      5\n",
      "0   True  False  False  False  False  False\n",
      "1  False   True   True  False  False  False\n",
      "2  False  False   True  False  False  False\n",
      "3  False  False   True   True  False  False\n",
      "4  False  False   True  False   True   True\n",
      "5  False  False   True  False  False  False\n",
      "6  False  False  False  False  False  False\n",
      "       0      1      2      3      4      5\n",
      "0   True  False  False  False  False  False\n",
      "1  False   True   True  False  False  False\n",
      "2  False  False   True  False  False  False\n",
      "3  False  False   True   True  False  False\n",
      "4  False  False   True  False   True   True\n",
      "5  False  False   True  False  False   True\n",
      "6  False  False  False  False  False  False\n",
      "       0      1      2      3      4      5\n",
      "0   True  False  False  False  False  False\n",
      "1  False   True   True  False  False  False\n",
      "2  False  False   True  False  False  False\n",
      "3  False  False   True   True  False  False\n",
      "4  False  False   True  False   True   True\n",
      "5  False  False   True  False  False   True\n",
      "6  False  False  False  False  False  False\n",
      "       0      1      2      3      4      5\n",
      "0   True  False  False  False  False  False\n",
      "1  False   True   True  False  False  False\n",
      "2  False  False   True  False  False  False\n",
      "3  False  False   True   True  False  False\n",
      "4  False  False   True  False   True   True\n",
      "5  False  False   True  False  False   True\n",
      "6  False  False   True  False  False  False\n",
      "       0      1      2      3      4      5\n",
      "0   True  False  False  False  False  False\n",
      "1  False   True   True  False  False  False\n",
      "2  False  False   True  False  False  False\n",
      "3  False  False   True   True  False  False\n",
      "4  False  False   True  False   True   True\n",
      "5  False  False   True  False  False   True\n",
      "6  False  False   True  False  False  False\n",
      "       0      1      2      3      4      5\n",
      "0   True  False  False  False  False  False\n",
      "1  False   True   True  False  False  False\n",
      "2  False  False   True  False  False  False\n",
      "3  False  False   True   True  False  False\n",
      "4  False  False   True  False   True   True\n",
      "5  False  False   True  False  False   True\n",
      "6  False  False   True  False  False  False\n",
      "       0      1      2      3      4      5\n",
      "0   True  False  False  False  False  False\n",
      "1  False   True   True  False  False  False\n",
      "2  False  False   True  False  False  False\n",
      "3  False  False   True   True  False  False\n",
      "4  False  False   True  False   True   True\n",
      "5  False  False   True  False  False   True\n",
      "6  False  False   True  False  False   True\n"
     ]
    },
    {
     "data": {
      "text/plain": [
       "True"
      ]
     },
     "execution_count": 145,
     "metadata": {},
     "output_type": "execute_result"
    }
   ],
   "source": [
    "string_in = \"abcdba\"\n",
    "regex_in = \"a*c?*\"\n",
    "wildcard_match(string_in, regex_in)"
   ]
  },
  {
   "cell_type": "code",
   "execution_count": 146,
   "id": "e7f3fa25",
   "metadata": {
    "ExecuteTime": {
     "end_time": "2024-07-06T03:51:39.074252Z",
     "start_time": "2024-07-06T03:51:39.019654Z"
    }
   },
   "outputs": [
    {
     "name": "stdout",
     "output_type": "stream",
     "text": [
      "Initialization\n",
      "       0      1      2      3      4      5\n",
      "0   True  False  False  False  False  False\n",
      "1  False  False  False  False  False  False\n",
      "2  False  False  False  False  False  False\n",
      "3  False  False  False  False  False  False\n",
      "4  False  False  False  False  False  False\n",
      "5  False  False  False  False  False  False\n",
      "6  False  False  False  False  False  False\n",
      "       0      1      2      3      4      5\n",
      "0   True  False  False  False  False  False\n",
      "1  False  False  False  False  False  False\n",
      "2  False  False  False  False  False  False\n",
      "3  False  False  False  False  False  False\n",
      "4  False  False  False  False  False  False\n",
      "5  False  False  False  False  False  False\n",
      "6  False  False  False  False  False  False\n",
      "       0      1      2      3      4      5\n",
      "0   True  False  False  False  False  False\n",
      "1  False  False  False  False  False  False\n",
      "2  False  False  False  False  False  False\n",
      "3  False  False  False  False  False  False\n",
      "4  False  False  False  False  False  False\n",
      "5  False  False  False  False  False  False\n",
      "6  False  False  False  False  False  False\n",
      "       0      1      2      3      4      5\n",
      "0   True  False  False  False  False  False\n",
      "1  False  False  False  False  False  False\n",
      "2  False  False  False  False  False  False\n",
      "3  False  False  False  False  False  False\n",
      "4  False  False  False  False  False  False\n",
      "5  False  False  False  False  False  False\n",
      "6  False  False  False  False  False  False\n",
      "       0      1      2      3      4      5\n",
      "0   True  False  False  False  False  False\n",
      "1  False  False  False  False  False  False\n",
      "2  False  False  False  False  False  False\n",
      "3  False  False  False  False  False  False\n",
      "4  False  False  False  False  False  False\n",
      "5  False  False  False  False  False  False\n",
      "6  False  False  False  False  False  False\n",
      "       0      1      2      3      4      5\n",
      "0   True  False  False  False  False  False\n",
      "1  False  False  False  False  False  False\n",
      "2  False  False  False  False  False  False\n",
      "3  False  False  False  False  False  False\n",
      "4  False  False  False  False  False  False\n",
      "5  False  False  False  False  False  False\n",
      "6  False  False  False  False  False  False\n",
      "       0      1      2      3      4      5\n",
      "0   True  False  False  False  False  False\n",
      "1  False  False  False  False  False  False\n",
      "2  False  False  False  False  False  False\n",
      "3  False  False  False  False  False  False\n",
      "4  False  False  False  False  False  False\n",
      "5  False  False  False  False  False  False\n",
      "6  False  False  False  False  False  False\n",
      "       0      1      2      3      4      5\n",
      "0   True  False  False  False  False  False\n",
      "1  False  False  False  False  False  False\n",
      "2  False  False  False  False  False  False\n",
      "3  False  False  False  False  False  False\n",
      "4  False  False  False  False  False  False\n",
      "5  False  False  False  False  False  False\n",
      "6  False  False  False  False  False  False\n",
      "       0      1      2      3      4      5\n",
      "0   True  False  False  False  False  False\n",
      "1  False  False  False  False  False  False\n",
      "2  False  False  False  False  False  False\n",
      "3  False  False  False  False  False  False\n",
      "4  False  False  False  False  False  False\n",
      "5  False  False  False  False  False  False\n",
      "6  False  False  False  False  False  False\n",
      "       0      1      2      3      4      5\n",
      "0   True  False  False  False  False  False\n",
      "1  False  False  False  False  False  False\n",
      "2  False  False  False  False  False  False\n",
      "3  False  False  False  False  False  False\n",
      "4  False  False  False  False  False  False\n",
      "5  False  False  False  False  False  False\n",
      "6  False  False  False  False  False  False\n",
      "       0      1      2      3      4      5\n",
      "0   True  False  False  False  False  False\n",
      "1  False  False  False  False  False  False\n",
      "2  False  False  False  False  False  False\n",
      "3  False  False  False  False  False  False\n",
      "4  False  False  False  False  False  False\n",
      "5  False  False  False  False  False  False\n",
      "6  False  False  False  False  False  False\n",
      "       0      1      2      3      4      5\n",
      "0   True  False  False  False  False  False\n",
      "1  False  False  False  False  False  False\n",
      "2  False  False  False  False  False  False\n",
      "3  False  False  False  False  False  False\n",
      "4  False  False  False  False  False  False\n",
      "5  False  False  False  False  False  False\n",
      "6  False  False  False  False  False  False\n",
      "       0      1      2      3      4      5\n",
      "0   True  False  False  False  False  False\n",
      "1  False  False  False  False  False  False\n",
      "2  False  False  False  False  False  False\n",
      "3  False  False  False  False  False  False\n",
      "4  False  False  False  False  False  False\n",
      "5  False  False  False  False  False  False\n",
      "6  False  False  False  False  False  False\n",
      "       0      1      2      3      4      5\n",
      "0   True  False  False  False  False  False\n",
      "1  False  False  False  False  False  False\n",
      "2  False  False  False  False  False  False\n",
      "3  False  False  False  False  False  False\n",
      "4  False  False  False  False  False  False\n",
      "5  False  False  False  False  False  False\n",
      "6  False  False  False  False  False  False\n",
      "       0      1      2      3      4      5\n",
      "0   True  False  False  False  False  False\n",
      "1  False  False  False  False  False  False\n",
      "2  False  False  False  False  False  False\n",
      "3  False  False  False  False  False  False\n",
      "4  False  False  False  False  False  False\n",
      "5  False  False  False  False  False  False\n",
      "6  False  False  False  False  False  False\n",
      "       0      1      2      3      4      5\n",
      "0   True  False  False  False  False  False\n",
      "1  False  False  False  False  False  False\n",
      "2  False  False  False  False  False  False\n",
      "3  False  False  False  False  False  False\n",
      "4  False  False  False  False  False  False\n",
      "5  False  False  False  False  False  False\n",
      "6  False  False  False  False  False  False\n",
      "       0      1      2      3      4      5\n",
      "0   True  False  False  False  False  False\n",
      "1  False  False  False  False  False  False\n",
      "2  False  False  False  False  False  False\n",
      "3  False  False  False  False  False  False\n",
      "4  False  False  False  False  False  False\n",
      "5  False  False  False  False  False  False\n",
      "6  False  False  False  False  False  False\n",
      "       0      1      2      3      4      5\n",
      "0   True  False  False  False  False  False\n",
      "1  False  False  False  False  False  False\n",
      "2  False  False  False  False  False  False\n",
      "3  False  False  False  False  False  False\n",
      "4  False  False  False  False  False  False\n",
      "5  False  False  False  False  False  False\n",
      "6  False  False  False  False  False  False\n",
      "       0      1      2      3      4      5\n",
      "0   True  False  False  False  False  False\n",
      "1  False  False  False  False  False  False\n",
      "2  False  False  False  False  False  False\n",
      "3  False  False  False  False  False  False\n",
      "4  False  False  False  False  False  False\n",
      "5  False  False  False  False  False  False\n",
      "6  False  False  False  False  False  False\n",
      "       0      1      2      3      4      5\n",
      "0   True  False  False  False  False  False\n",
      "1  False  False  False  False  False  False\n",
      "2  False  False  False  False  False  False\n",
      "3  False  False  False  False  False  False\n",
      "4  False  False  False  False  False  False\n",
      "5  False  False  False  False  False  False\n",
      "6  False  False  False  False  False  False\n",
      "       0      1      2      3      4      5\n",
      "0   True  False  False  False  False  False\n",
      "1  False  False  False  False  False  False\n",
      "2  False  False  False  False  False  False\n",
      "3  False  False  False  False  False  False\n",
      "4  False  False  False  False  False  False\n",
      "5  False  False  False  False  False  False\n",
      "6  False  False  False  False  False  False\n",
      "       0      1      2      3      4      5\n",
      "0   True  False  False  False  False  False\n",
      "1  False  False  False  False  False  False\n",
      "2  False  False  False  False  False  False\n",
      "3  False  False  False  False  False  False\n",
      "4  False  False  False  False  False  False\n",
      "5  False  False  False  False  False  False\n",
      "6  False  False  False  False  False  False\n",
      "       0      1      2      3      4      5\n",
      "0   True  False  False  False  False  False\n",
      "1  False  False  False  False  False  False\n",
      "2  False  False  False  False  False  False\n",
      "3  False  False  False  False  False  False\n",
      "4  False  False  False  False  False  False\n",
      "5  False  False  False  False  False  False\n",
      "6  False  False  False  False  False  False\n",
      "       0      1      2      3      4      5\n",
      "0   True  False  False  False  False  False\n",
      "1  False  False  False  False  False  False\n",
      "2  False  False  False  False  False  False\n",
      "3  False  False  False  False  False  False\n",
      "4  False  False  False  False  False  False\n",
      "5  False  False  False  False  False  False\n",
      "6  False  False  False  False  False  False\n",
      "       0      1      2      3      4      5\n",
      "0   True  False  False  False  False  False\n",
      "1  False  False  False  False  False  False\n",
      "2  False  False  False  False  False  False\n",
      "3  False  False  False  False  False  False\n",
      "4  False  False  False  False  False  False\n",
      "5  False  False  False  False  False  False\n",
      "6  False  False  False  False  False  False\n",
      "       0      1      2      3      4      5\n",
      "0   True  False  False  False  False  False\n",
      "1  False  False  False  False  False  False\n",
      "2  False  False  False  False  False  False\n",
      "3  False  False  False  False  False  False\n",
      "4  False  False  False  False  False  False\n",
      "5  False  False  False  False  False  False\n",
      "6  False  False  False  False  False  False\n",
      "       0      1      2      3      4      5\n",
      "0   True  False  False  False  False  False\n",
      "1  False  False  False  False  False  False\n",
      "2  False  False  False  False  False  False\n",
      "3  False  False  False  False  False  False\n",
      "4  False  False  False  False  False  False\n",
      "5  False  False  False  False  False  False\n",
      "6  False  False  False  False  False  False\n",
      "       0      1      2      3      4      5\n",
      "0   True  False  False  False  False  False\n",
      "1  False  False  False  False  False  False\n",
      "2  False  False  False  False  False  False\n",
      "3  False  False  False  False  False  False\n",
      "4  False  False  False  False  False  False\n",
      "5  False  False  False  False  False  False\n",
      "6  False  False  False  False  False  False\n",
      "       0      1      2      3      4      5\n",
      "0   True  False  False  False  False  False\n",
      "1  False  False  False  False  False  False\n",
      "2  False  False  False  False  False  False\n",
      "3  False  False  False  False  False  False\n",
      "4  False  False  False  False  False  False\n",
      "5  False  False  False  False  False  False\n",
      "6  False  False  False  False  False  False\n",
      "       0      1      2      3      4      5\n",
      "0   True  False  False  False  False  False\n",
      "1  False  False  False  False  False  False\n",
      "2  False  False  False  False  False  False\n",
      "3  False  False  False  False  False  False\n",
      "4  False  False  False  False  False  False\n",
      "5  False  False  False  False  False  False\n",
      "6  False  False  False  False  False  False\n",
      "       0      1      2      3      4      5\n",
      "0   True  False  False  False  False  False\n",
      "1  False  False  False  False  False  False\n",
      "2  False  False  False  False  False  False\n",
      "3  False  False  False  False  False  False\n",
      "4  False  False  False  False  False  False\n",
      "5  False  False  False  False  False  False\n",
      "6  False  False  False  False  False  False\n",
      "       0      1      2      3      4      5\n",
      "0   True  False  False  False  False  False\n",
      "1  False  False  False  False  False  False\n",
      "2  False  False  False  False  False  False\n",
      "3  False  False  False  False  False  False\n",
      "4  False  False  False  False  False  False\n",
      "5  False  False  False  False  False  False\n",
      "6  False  False  False  False  False  False\n"
     ]
    },
    {
     "data": {
      "text/plain": [
       "False"
      ]
     },
     "execution_count": 146,
     "metadata": {},
     "output_type": "execute_result"
    }
   ],
   "source": [
    "string_in = \"abcdba\"\n",
    "regex_in = \"b*c?*\"\n",
    "wildcard_match(string_in, regex_in)"
   ]
  },
  {
   "cell_type": "markdown",
   "id": "eedda44a",
   "metadata": {},
   "source": [
    "# Q 9.30"
   ]
  },
  {
   "cell_type": "code",
   "execution_count": 162,
   "id": "6144bb10",
   "metadata": {
    "ExecuteTime": {
     "end_time": "2024-07-06T04:11:06.188105Z",
     "start_time": "2024-07-06T04:11:06.159060Z"
    }
   },
   "outputs": [
    {
     "data": {
      "text/plain": [
       "(1.2500000000000004, 1.2500000000000004)"
      ]
     },
     "execution_count": 162,
     "metadata": {},
     "output_type": "execute_result"
    }
   ],
   "source": [
    "# Solution \n",
    "import math\n",
    "def get_optimal_location(coords):\n",
    "    def partialX(x_c, y_c):  # partial with respect to x\n",
    "        return sum(((x_c-x_i)/math.sqrt((x_c-x_i)**2 + \n",
    "                   (y_c-y_i)**2) if x_c != x_i else 0) for x_i, y_i in coords)\n",
    "    def partialY(x_c, y_c):  # partial with respect to y\n",
    "        return sum(((y_c-y_i)/math.sqrt((x_c-x_i)**2 + \n",
    "                   (y_c-y_i)**2) if x_c != x_i else 0) for x_i, y_i in coords)\n",
    "    \n",
    "    rate = 1  # initial learning rate\n",
    "    rate_decay = 0.99  # rate of decay\n",
    "    terminal_rate = 1e-8  # terminal rate (stop condition)\n",
    "    damping_factor = 0.7\n",
    "    \n",
    "    l = len(coords)\n",
    "    x_c = sum(x for x, y in coords)/l  # centroid x\n",
    "    y_c = sum(y for x, y in coords)/l  # centroid x\n",
    "    \n",
    "    dx = 0\n",
    "    dy = 0\n",
    "    \n",
    "    while rate > terminal_rate:\n",
    "        dx = partialX(x_c, y_c) + damping_factor * dx\n",
    "        dy = partialY(x_c, y_c) + damping_factor * dy\n",
    "        x_c = x_c - rate * dx  # update coordinates\n",
    "        y_c = y_c - rate * dx  # update coordinates\n",
    "        rate = rate * rate_decay  # update learning rate\n",
    "    return (x_c, y_c)\n",
    "\n",
    "coordinates = [(0,0), (1,1), (2,2), (2,2)]\n",
    "get_optimal_location(coordinates)"
   ]
  }
 ],
 "metadata": {
  "kernelspec": {
   "display_name": "Python 3 (ipykernel)",
   "language": "python",
   "name": "python3"
  },
  "language_info": {
   "codemirror_mode": {
    "name": "ipython",
    "version": 3
   },
   "file_extension": ".py",
   "mimetype": "text/x-python",
   "name": "python",
   "nbconvert_exporter": "python",
   "pygments_lexer": "ipython3",
   "version": "3.9.6"
  },
  "toc": {
   "base_numbering": 1,
   "nav_menu": {},
   "number_sections": false,
   "sideBar": true,
   "skip_h1_title": false,
   "title_cell": "Table of Contents",
   "title_sidebar": "Contents",
   "toc_cell": false,
   "toc_position": {
    "height": "calc(100% - 180px)",
    "left": "10px",
    "top": "150px",
    "width": "165px"
   },
   "toc_section_display": true,
   "toc_window_display": true
  }
 },
 "nbformat": 4,
 "nbformat_minor": 5
}
