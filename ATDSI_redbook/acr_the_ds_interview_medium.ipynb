{
 "cells": [
  {
   "cell_type": "markdown",
   "id": "a23a58ea",
   "metadata": {},
   "source": [
    "# Medium"
   ]
  },
  {
   "cell_type": "markdown",
   "id": "f0c3c0d2",
   "metadata": {},
   "source": [
    "# Q 9.7"
   ]
  },
  {
   "cell_type": "code",
   "execution_count": 2,
   "id": "bc873cee",
   "metadata": {
    "ExecuteTime": {
     "end_time": "2024-06-30T23:41:30.020963Z",
     "start_time": "2024-06-30T23:41:30.010252Z"
    }
   },
   "outputs": [
    {
     "data": {
      "text/plain": [
       "[1, 3]"
      ]
     },
     "execution_count": 2,
     "metadata": {},
     "output_type": "execute_result"
    }
   ],
   "source": [
    "def find_peak(arr):\n",
    "    n = len(arr)\n",
    "    list_peak = []\n",
    "    for i in range(1, n-1):\n",
    "        if (arr[i-1]<arr[i])&(arr[i+1]<arr[i]):\n",
    "            list_peak.append(i)\n",
    "\n",
    "    return list_peak\n",
    "\n",
    "arr = [3, 5, 2, 4, 1]\n",
    "find_peak(arr)"
   ]
  },
  {
   "cell_type": "code",
   "execution_count": 4,
   "id": "34361c21",
   "metadata": {
    "ExecuteTime": {
     "end_time": "2024-06-30T23:41:34.654386Z",
     "start_time": "2024-06-30T23:41:34.643738Z"
    }
   },
   "outputs": [
    {
     "data": {
      "text/plain": [
       "3"
      ]
     },
     "execution_count": 4,
     "metadata": {},
     "output_type": "execute_result"
    }
   ],
   "source": [
    "# Solution\n",
    "def get_peak(arr):\n",
    "    start = 0\n",
    "    end = len(arr)-1\n",
    "    while True:\n",
    "        mid = (start + end) // 2\n",
    "        left = arr[mid-1] if mid-1 >= 0 else float('-inf')\n",
    "        right = arr[mid+1] if mid+1 < len(arr) else float('-inf')\n",
    "        if left < arr[mid] and right <  arr[mid]:\n",
    "            return mid\n",
    "        elif arr[mid] < right:\n",
    "            start = mid + 1\n",
    "        else:\n",
    "            end = mid-1\n",
    "arr = [3, 5, 2, 4, 1]\n",
    "get_peak(arr)"
   ]
  },
  {
   "cell_type": "markdown",
   "id": "fcf97d40",
   "metadata": {},
   "source": [
    "\n",
    "# Q 9.8"
   ]
  },
  {
   "cell_type": "code",
   "execution_count": 37,
   "id": "c9448c6f",
   "metadata": {
    "ExecuteTime": {
     "end_time": "2024-06-26T21:35:03.711962Z",
     "start_time": "2024-06-26T21:35:03.699828Z"
    }
   },
   "outputs": [
    {
     "name": "stdout",
     "output_type": "stream",
     "text": [
      "0.9863939238321437\n",
      "-0.8240419241993676\n"
     ]
    }
   ],
   "source": [
    "def cal_corr(x, y):\n",
    "    len_x = len(x)\n",
    "    mean_x = sum(x)/len_x\n",
    "\n",
    "    len_y = len(y)\n",
    "    mean_y = sum(y)/len_y\n",
    "\n",
    "    dif_x = [i-mean_x for i in x]\n",
    "    dif_y = [i-mean_y for i in y]\n",
    "\n",
    "    list_dif_xy = []\n",
    "    for i in range(len_x):\n",
    "        list_dif_xy.append(dif_x[i]*dif_y[i])\n",
    "    sum_dif_xy = sum(list_dif_xy)\n",
    "\n",
    "\n",
    "    dif_x2 = [(i-mean_x)**2 for i in x]\n",
    "    dif_y2 = [(i-mean_y)**2 for i in y]\n",
    "\n",
    "    divider = (sum(dif_x2)*sum(dif_y2))**0.5\n",
    "\n",
    "    cor = sum_dif_xy/divider\n",
    "    return cor\n",
    "\n",
    "x1 = [1,2,3,4,5]\n",
    "y1 = [2,4,5,6,7]\n",
    "y2 = [5,4,3,2,-10]\n",
    "print(cal_corr(x1, y1))\n",
    "print(cal_corr(x1, y2))"
   ]
  },
  {
   "cell_type": "code",
   "execution_count": 10,
   "id": "d199528c",
   "metadata": {
    "ExecuteTime": {
     "end_time": "2024-07-01T00:00:56.063834Z",
     "start_time": "2024-07-01T00:00:56.055835Z"
    }
   },
   "outputs": [
    {
     "name": "stdout",
     "output_type": "stream",
     "text": [
      "0.9863939238321436\n",
      "-0.8240419241993675\n"
     ]
    }
   ],
   "source": [
    "# Solution\n",
    "import math\n",
    "\n",
    "def mean(x):\n",
    "    return sum(x)/len(x)\n",
    "\n",
    "def sd(x):\n",
    "    m = mean(x)\n",
    "    ss = sum((i-m)**2 for i in x)\n",
    "    return math.sqrt(ss/len(x))\n",
    "\n",
    "def corr(x, y):\n",
    "    x_m = mean(x)\n",
    "    y_m = mean(y)\n",
    "    xy_d = []\n",
    "    for i in range(len(x)):\n",
    "        x_d = x[i]-x_m\n",
    "        y_d = y[i]-y_m\n",
    "        xy_d.append(x_d*y_d)\n",
    "    return mean(xy_d)/(sd(x)*sd(y))\n",
    "\n",
    "x1 = [1,2,3,4,5]\n",
    "y1 = [2,4,5,6,7]\n",
    "y2 = [5,4,3,2,-10]\n",
    "print(corr(x1, y1))\n",
    "print(corr(x1, y2))"
   ]
  },
  {
   "cell_type": "markdown",
   "id": "1adb17a9",
   "metadata": {
    "ExecuteTime": {
     "end_time": "2024-06-26T21:28:58.163773Z",
     "start_time": "2024-06-26T21:28:58.160952Z"
    }
   },
   "source": [
    "# Q 9.9"
   ]
  },
  {
   "cell_type": "code",
   "execution_count": 54,
   "id": "921045da",
   "metadata": {
    "ExecuteTime": {
     "end_time": "2024-07-01T00:25:31.947514Z",
     "start_time": "2024-07-01T00:25:31.941572Z"
    }
   },
   "outputs": [],
   "source": [
    "# Solution\n",
    "class TreeNode:\n",
    "    def __init__(self, val):\n",
    "        self.val = val\n",
    "        self.left = None\n",
    "        self.right = None\n",
    "        \n",
    "t = TreeNode(1)\n",
    "t.left = TreeNode(2)\n",
    "t.left.left = TreeNode(4)\n",
    "t.left.right = TreeNode(5)\n",
    "t.left.left.left = TreeNode(7)\n",
    "\n",
    "t.right = TreeNode(3)\n",
    "t.right.right = TreeNode(6)\n",
    "\n",
    "        \n",
    "def cal_diameter(root):\n",
    "    def depth(root, diameter):\n",
    "        if root is None:\n",
    "            return 0, diameter\n",
    "        \n",
    "        c_left, diameter = depth(root.left, diameter)\n",
    "        c_right, diameter = depth(root.right, diameter)\n",
    "        diameter = max(diameter, c_left + c_right)\n",
    "        return max(c_left, c_right)+1, diameter\n",
    "        \n",
    "    depth, diameter = depth(root, 0)\n",
    "    \n",
    "    return diameter"
   ]
  },
  {
   "cell_type": "code",
   "execution_count": 70,
   "id": "6b951887",
   "metadata": {
    "ExecuteTime": {
     "end_time": "2024-07-01T00:39:38.705156Z",
     "start_time": "2024-07-01T00:39:38.698359Z"
    }
   },
   "outputs": [
    {
     "data": {
      "text/plain": [
       "5"
      ]
     },
     "execution_count": 70,
     "metadata": {},
     "output_type": "execute_result"
    }
   ],
   "source": [
    "# ```mermaid\n",
    "# graph TreeNode;\n",
    "#     1-->2;\n",
    "#     1-->3;\n",
    "#     2-->4;\n",
    "#     2-->5;\n",
    "#     4-->7;\n",
    "#     3-->6;\n",
    "# ```\n",
    "t = TreeNode(1)\n",
    "t.left = TreeNode(2)\n",
    "t.left.left = TreeNode(4)\n",
    "t.left.right = TreeNode(5)\n",
    "t.left.left.left = TreeNode(7)\n",
    "\n",
    "t.right = TreeNode(3)\n",
    "t.right.right = TreeNode(6)\n",
    "\n",
    "cal_diameter(t)"
   ]
  },
  {
   "cell_type": "code",
   "execution_count": 67,
   "id": "5a54dc49",
   "metadata": {
    "ExecuteTime": {
     "end_time": "2024-07-01T00:28:05.421385Z",
     "start_time": "2024-07-01T00:28:05.411610Z"
    }
   },
   "outputs": [
    {
     "data": {
      "text/plain": [
       "5"
      ]
     },
     "execution_count": 67,
     "metadata": {},
     "output_type": "execute_result"
    }
   ],
   "source": [
    "# Solution class to find the diameter of the binary tree\n",
    "def diameterOfBinaryTree(root):\n",
    "    # Initialize the variable to store the diameter of the tree\n",
    "    diameter = [0]\n",
    "    # Call the height function to traverse the tree and calculate diameter\n",
    "    height(root, diameter)\n",
    "    # Return the calculated diameter\n",
    "    return diameter[0]\n",
    "\n",
    "# Function to calculate the height of the tree and update the diameter\n",
    "def height(node, diameter):\n",
    "    # Base case: If the node is None, return 0 indicating the height of an empty tree\n",
    "    if not node:\n",
    "        return 0\n",
    "\n",
    "    # Recursively calculate the height of left and right subtrees\n",
    "    lh = height(node.left, diameter)\n",
    "    rh = height(node.right, diameter)\n",
    "\n",
    "    # Update the diameter with the maximum of current diameter or sum of left and right heights\n",
    "    diameter[0] = max(diameter[0], lh + rh)\n",
    "\n",
    "    # Return the height of the current node's subtree\n",
    "    return 1 + max(lh, rh)\n",
    "\n",
    "\n",
    "diameterOfBinaryTree(t)"
   ]
  },
  {
   "cell_type": "markdown",
   "id": "a2566643",
   "metadata": {
    "ExecuteTime": {
     "end_time": "2024-06-26T21:29:00.032768Z",
     "start_time": "2024-06-26T21:29:00.029887Z"
    }
   },
   "source": [
    "# Q 9.10"
   ]
  },
  {
   "cell_type": "code",
   "execution_count": 17,
   "id": "75dc8a25",
   "metadata": {
    "ExecuteTime": {
     "end_time": "2024-07-03T01:53:21.865832Z",
     "start_time": "2024-07-03T01:53:21.853325Z"
    },
    "scrolled": true
   },
   "outputs": [
    {
     "name": "stdout",
     "output_type": "stream",
     "text": [
      "[-9.0, -9.0, -9.0, -9.0, -9.0, -9.0, -9.0, -9.0, -9.0, -9.0]\n",
      "100.0\n",
      "[-9.0, -9.0, -8.0, -9.0, -9.0, -9.0, -9.0, -9.0, -9.0, -9.0] 99.0\n",
      "[-9.0, -9.0, -8.0, -8.0, -9.0, -9.0, -9.0, -9.0, -9.0, -9.0] 98.0\n",
      "[-9.0, -9.0, -8.0, -8.0, -9.0, -9.0, -9.0, -9.0, -9.0, -8.0] 97.0\n",
      "[-9.0, -9.0, -8.0, -8.0, -9.0, -9.0, -8.0, -9.0, -9.0, -8.0] 96.0\n",
      "[-9.0, -9.0, -8.0, -8.0, -9.0, -8.0, -8.0, -9.0, -9.0, -8.0] 95.0\n",
      "[-8.0, -9.0, -8.0, -8.0, -9.0, -8.0, -8.0, -9.0, -9.0, -8.0] 94.0\n",
      "[-8.0, -9.0, -8.0, -8.0, -8.0, -8.0, -8.0, -9.0, -9.0, -8.0] 93.0\n",
      "[-7.0, -9.0, -8.0, -8.0, -8.0, -8.0, -8.0, -9.0, -9.0, -8.0] 92.0\n",
      "[-7.0, -9.0, -8.0, -8.0, -8.0, -8.0, -7.0, -9.0, -9.0, -8.0] 91.0\n",
      "[-7.0, -9.0, -7.0, -8.0, -8.0, -8.0, -7.0, -9.0, -9.0, -8.0] 90.0\n",
      "[-7.0, -8.0, -7.0, -8.0, -8.0, -8.0, -7.0, -9.0, -9.0, -8.0] 89.0\n",
      "[-7.0, -8.0, -7.0, -7.0, -8.0, -8.0, -7.0, -9.0, -9.0, -8.0] 88.0\n",
      "[-7.0, -7.0, -7.0, -7.0, -8.0, -8.0, -7.0, -9.0, -9.0, -8.0] 87.0\n",
      "[-7.0, -7.0, -7.0, -7.0, -8.0, -8.0, -6.0, -9.0, -9.0, -8.0] 86.0\n",
      "[-6.0, -7.0, -7.0, -7.0, -8.0, -8.0, -6.0, -9.0, -9.0, -8.0] 85.0\n",
      "[-6.0, -7.0, -7.0, -7.0, -8.0, -8.0, -6.0, -9.0, -8.0, -8.0] 84.0\n",
      "[-6.0, -7.0, -7.0, -6.0, -8.0, -8.0, -6.0, -9.0, -8.0, -8.0] 83.0\n",
      "[-6.0, -7.0, -7.0, -6.0, -8.0, -7.0, -6.0, -9.0, -8.0, -8.0] 82.0\n",
      "[-6.0, -7.0, -7.0, -6.0, -8.0, -7.0, -6.0, -8.0, -8.0, -8.0] 81.0\n",
      "[-6.0, -6.0, -7.0, -6.0, -8.0, -7.0, -6.0, -8.0, -8.0, -8.0] 80.0\n",
      "[-6.0, -5.0, -7.0, -6.0, -8.0, -7.0, -6.0, -8.0, -8.0, -8.0] 79.0\n",
      "[-6.0, -5.0, -7.0, -5.0, -8.0, -7.0, -6.0, -8.0, -8.0, -8.0] 78.0\n",
      "[-6.0, -5.0, -7.0, -5.0, -8.0, -6.0, -6.0, -8.0, -8.0, -8.0] 77.0\n",
      "[-6.0, -5.0, -7.0, -5.0, -7.0, -6.0, -6.0, -8.0, -8.0, -8.0] 76.0\n",
      "[-6.0, -5.0, -7.0, -5.0, -7.0, -6.0, -6.0, -7.0, -8.0, -8.0] 75.0\n",
      "[-5.0, -5.0, -7.0, -5.0, -7.0, -6.0, -6.0, -7.0, -8.0, -8.0] 74.0\n",
      "[-5.0, -5.0, -6.0, -5.0, -7.0, -6.0, -6.0, -7.0, -8.0, -8.0] 73.0\n",
      "[-5.0, -5.0, -6.0, -5.0, -7.0, -6.0, -6.0, -7.0, -7.0, -8.0] 72.0\n",
      "[-5.0, -5.0, -5.0, -5.0, -7.0, -6.0, -6.0, -7.0, -7.0, -8.0] 71.0\n",
      "[-5.0, -5.0, -5.0, -5.0, -6.0, -6.0, -6.0, -7.0, -7.0, -8.0] 70.0\n",
      "[-4.0, -5.0, -5.0, -5.0, -6.0, -6.0, -6.0, -7.0, -7.0, -8.0] 69.0\n",
      "[-4.0, -5.0, -5.0, -5.0, -6.0, -6.0, -6.0, -6.0, -7.0, -8.0] 68.0\n",
      "[-4.0, -5.0, -5.0, -5.0, -6.0, -5.0, -6.0, -6.0, -7.0, -8.0] 67.0\n",
      "[-4.0, -5.0, -5.0, -4.0, -6.0, -5.0, -6.0, -6.0, -7.0, -8.0] 66.0\n",
      "[-4.0, -4.0, -5.0, -4.0, -6.0, -5.0, -6.0, -6.0, -7.0, -8.0] 65.0\n",
      "[-4.0, -4.0, -5.0, -4.0, -6.0, -5.0, -6.0, -6.0, -6.0, -8.0] 64.0\n",
      "[-4.0, -4.0, -4.0, -4.0, -6.0, -5.0, -6.0, -6.0, -6.0, -8.0] 63.0\n",
      "[-4.0, -4.0, -4.0, -4.0, -6.0, -5.0, -5.0, -6.0, -6.0, -8.0] 62.0\n",
      "[-4.0, -4.0, -3.0, -4.0, -6.0, -5.0, -5.0, -6.0, -6.0, -8.0] 61.0\n",
      "[-3.0, -4.0, -3.0, -4.0, -6.0, -5.0, -5.0, -6.0, -6.0, -8.0] 60.0\n",
      "[-3.0, -4.0, -3.0, -4.0, -6.0, -4.0, -5.0, -6.0, -6.0, -8.0] 59.0\n",
      "[-3.0, -4.0, -3.0, -4.0, -6.0, -4.0, -5.0, -5.0, -6.0, -8.0] 58.0\n",
      "[-3.0, -4.0, -3.0, -4.0, -6.0, -4.0, -5.0, -5.0, -6.0, -7.0] 57.0\n",
      "[-3.0, -4.0, -3.0, -4.0, -6.0, -3.0, -5.0, -5.0, -6.0, -7.0] 56.0\n",
      "[-2.0, -4.0, -3.0, -4.0, -6.0, -3.0, -5.0, -5.0, -6.0, -7.0] 55.0\n",
      "[-2.0, -4.0, -2.0, -4.0, -6.0, -3.0, -5.0, -5.0, -6.0, -7.0] 54.0\n",
      "[-1.0, -4.0, -2.0, -4.0, -6.0, -3.0, -5.0, -5.0, -6.0, -7.0] 53.0\n",
      "[-1.0, -4.0, -2.0, -4.0, -6.0, -3.0, -4.0, -5.0, -6.0, -7.0] 52.0\n",
      "[-1.0, -4.0, -2.0, -4.0, -5.0, -3.0, -4.0, -5.0, -6.0, -7.0] 51.0\n",
      "[-1.0, -4.0, -2.0, -3.0, -5.0, -3.0, -4.0, -5.0, -6.0, -7.0] 50.0\n",
      "[-1.0, -4.0, -2.0, -3.0, -4.0, -3.0, -4.0, -5.0, -6.0, -7.0] 49.0\n",
      "[-1.0, -4.0, -2.0, -3.0, -4.0, -3.0, -4.0, -5.0, -5.0, -7.0] 48.0\n",
      "[-1.0, -3.0, -2.0, -3.0, -4.0, -3.0, -4.0, -5.0, -5.0, -7.0] 47.0\n",
      "[-1.0, -3.0, -2.0, -3.0, -4.0, -3.0, -3.0, -5.0, -5.0, -7.0] 46.0\n",
      "[-1.0, -3.0, -2.0, -3.0, -4.0, -2.0, -3.0, -5.0, -5.0, -7.0] 45.0\n",
      "[-1.0, -3.0, -2.0, -3.0, -4.0, -1.0, -3.0, -5.0, -5.0, -7.0] 44.0\n",
      "[-1.0, -2.0, -2.0, -3.0, -4.0, -1.0, -3.0, -5.0, -5.0, -7.0] 43.0\n",
      "[-1.0, -2.0, -2.0, -3.0, -4.0, 0.0, -3.0, -5.0, -5.0, -7.0] 42.0\n",
      "[-1.0, -2.0, -2.0, -3.0, -4.0, 0.0, -3.0, -5.0, -4.0, -7.0] 41.0\n",
      "[-1.0, -2.0, -2.0, -3.0, -4.0, 1.0, -3.0, -5.0, -4.0, -7.0] 40.0\n",
      "[-1.0, -2.0, -2.0, -3.0, -3.0, 1.0, -3.0, -5.0, -4.0, -7.0] 39.0\n",
      "[-1.0, -2.0, -2.0, -3.0, -3.0, 1.0, -2.0, -5.0, -4.0, -7.0] 38.0\n",
      "[0.0, -2.0, -2.0, -3.0, -3.0, 1.0, -2.0, -5.0, -4.0, -7.0] 37.0\n",
      "[1.0, -2.0, -2.0, -3.0, -3.0, 1.0, -2.0, -5.0, -4.0, -7.0] 36.0\n",
      "[1.0, -2.0, -2.0, -2.0, -3.0, 1.0, -2.0, -5.0, -4.0, -7.0] 35.0\n",
      "[2.0, -2.0, -2.0, -2.0, -3.0, 1.0, -2.0, -5.0, -4.0, -7.0] 34.0\n",
      "[2.0, -1.0, -2.0, -2.0, -3.0, 1.0, -2.0, -5.0, -4.0, -7.0] 33.0\n",
      "[2.0, -1.0, -2.0, -2.0, -3.0, 1.0, -2.0, -5.0, -4.0, -6.0] 32.0\n",
      "[3.0, -1.0, -2.0, -2.0, -3.0, 1.0, -2.0, -5.0, -4.0, -6.0] 31.0\n",
      "[3.0, -1.0, -2.0, -1.0, -3.0, 1.0, -2.0, -5.0, -4.0, -6.0] 30.0\n",
      "[3.0, -1.0, -2.0, -1.0, -2.0, 1.0, -2.0, -5.0, -4.0, -6.0] 29.0\n",
      "[3.0, -1.0, -1.0, -1.0, -2.0, 1.0, -2.0, -5.0, -4.0, -6.0] 28.0\n",
      "[3.0, -1.0, -1.0, -1.0, -2.0, 1.0, -1.0, -5.0, -4.0, -6.0] 27.0\n",
      "[3.0, -1.0, -1.0, -1.0, -2.0, 2.0, -1.0, -5.0, -4.0, -6.0] 26.0\n",
      "[4.0, -1.0, -1.0, -1.0, -2.0, 2.0, -1.0, -5.0, -4.0, -6.0] 25.0\n",
      "[4.0, -1.0, -1.0, -1.0, -2.0, 2.0, -1.0, -5.0, -3.0, -6.0] 24.0\n",
      "[4.0, -1.0, -1.0, -1.0, -1.0, 2.0, -1.0, -5.0, -3.0, -6.0] 23.0\n",
      "[4.0, -1.0, -1.0, -1.0, 0.0, 2.0, -1.0, -5.0, -3.0, -6.0] 22.0\n",
      "[4.0, -1.0, -1.0, -1.0, 1.0, 2.0, -1.0, -5.0, -3.0, -6.0] 21.0\n",
      "[4.0, -1.0, -1.0, -1.0, 2.0, 2.0, -1.0, -5.0, -3.0, -6.0] 20.0\n",
      "[4.0, -1.0, -1.0, -1.0, 2.0, 2.0, 0.0, -5.0, -3.0, -6.0] 19.0\n",
      "[4.0, -1.0, -1.0, 0.0, 2.0, 2.0, 0.0, -5.0, -3.0, -6.0] 18.0\n",
      "[4.0, -1.0, -1.0, 0.0, 2.0, 3.0, 0.0, -5.0, -3.0, -6.0] 17.0\n",
      "[4.0, -1.0, -1.0, 1.0, 2.0, 3.0, 0.0, -5.0, -3.0, -6.0] 16.0\n",
      "[4.0, 0.0, -1.0, 1.0, 2.0, 3.0, 0.0, -5.0, -3.0, -6.0] 15.0\n",
      "[4.0, 1.0, -1.0, 1.0, 2.0, 3.0, 0.0, -5.0, -3.0, -6.0] 14.0\n",
      "[4.0, 1.0, -1.0, 1.0, 3.0, 3.0, 0.0, -5.0, -3.0, -6.0] 13.0\n",
      "[4.0, 1.0, -1.0, 1.0, 3.0, 3.0, 0.0, -4.0, -3.0, -6.0] 12.0\n",
      "[4.0, 1.0, -1.0, 1.0, 3.0, 4.0, 0.0, -4.0, -3.0, -6.0] 11.0\n",
      "[4.0, 1.0, 0.0, 1.0, 3.0, 4.0, 0.0, -4.0, -3.0, -6.0] 10.0\n",
      "[4.0, 1.0, 0.0, 1.0, 4.0, 4.0, 0.0, -4.0, -3.0, -6.0] 9.0\n",
      "[4.0, 1.0, 0.0, 1.0, 4.0, 4.0, 0.0, -4.0, -3.0, -5.0] 8.0\n",
      "[5.0, 1.0, 0.0, 1.0, 4.0, 4.0, 0.0, -4.0, -3.0, -5.0] 7.0\n",
      "[5.0, 1.0, 0.0, 1.0, 4.0, 4.0, 0.0, -4.0, -3.0, -4.0] 6.0\n",
      "[5.0, 1.0, 0.0, 1.0, 4.0, 4.0, 0.0, -4.0, -2.0, -4.0] 5.0\n",
      "[5.0, 1.0, 0.0, 2.0, 4.0, 4.0, 0.0, -4.0, -2.0, -4.0] 4.0\n",
      "[5.0, 1.0, 0.0, 2.0, 4.0, 4.0, 1.0, -4.0, -2.0, -4.0] 3.0\n",
      "[5.0, 1.0, 0.0, 2.0, 4.0, 4.0, 1.0, -4.0, -2.0, -3.0] 2.0\n",
      "[5.0, 1.0, 0.0, 3.0, 4.0, 4.0, 1.0, -4.0, -2.0, -3.0] 1.0\n",
      "[5.0, 1.0, 0.0, 3.0, 4.0, 4.0, 1.0, -3.0, -2.0, -3.0] 0.0\n"
     ]
    },
    {
     "data": {
      "text/plain": [
       "[5.0, 1.0, 0.0, 3.0, 4.0, 4.0, 1.0, -3.0, -2.0, -3.0]"
      ]
     },
     "execution_count": 17,
     "metadata": {},
     "output_type": "execute_result"
    }
   ],
   "source": [
    "# Solution\n",
    "import random\n",
    "def gen_nums(target, n, sigma):\n",
    "    mean = target/n\n",
    "    sd = int(sigma*mean)\n",
    "    max_val, min_val = mean+sd, mean-sd\n",
    "    results = [min_val] * n\n",
    "    remaining = target-n*min_val\n",
    "    print(results)\n",
    "    print(remaining)\n",
    "    \n",
    "    while remaining>0:\n",
    "        a = random.randint(0, n-1)\n",
    "        if results[a]> max_val:\n",
    "            continue\n",
    "        results[a] += min(remaining, 1)\n",
    "        remaining -= 1\n",
    "        print(results, remaining)\n",
    "    return results\n",
    "\n",
    "gen_nums(10, 10, 10)"
   ]
  },
  {
   "cell_type": "markdown",
   "id": "aa9b5a8c",
   "metadata": {
    "ExecuteTime": {
     "end_time": "2024-06-26T21:29:02.010113Z",
     "start_time": "2024-06-26T21:29:02.007284Z"
    }
   },
   "source": [
    "# Q 9.11\n"
   ]
  },
  {
   "cell_type": "code",
   "execution_count": 19,
   "id": "5d611961",
   "metadata": {
    "ExecuteTime": {
     "end_time": "2024-07-03T02:00:03.881680Z",
     "start_time": "2024-07-03T02:00:03.875102Z"
    }
   },
   "outputs": [],
   "source": [
    "# Solution\n",
    "import queue\n",
    "\n",
    "def friendship_distance(n, edges, x, y):\n",
    "    distance = [0]*n  # distances from x\n",
    "    processed = [False]*n  # visited or not already\n",
    "    q = queue.Queue()\n",
    "    q.put(x)\n",
    "    processed[x] = True\n",
    "    \n",
    "    while (not q.empty()):\n",
    "        curr = q.get()  # current node\n",
    "        if curr not in edges:\n",
    "            continue\n",
    "        for neighbor in range(len(edges[curr])):  # processed if not visited\n",
    "            if not processed[edgres[curr][neighbor]]:\n",
    "                distance[edges[curr][neighbor]] = distance[curr]+1\n",
    "                q.put(edges[curr][neighbor])  # add neighber\n",
    "                processed[edges[currr][neighbor]] = True\n",
    "    \n",
    "    \n",
    "    return distance[y]"
   ]
  },
  {
   "cell_type": "markdown",
   "id": "76d5cc0a",
   "metadata": {
    "ExecuteTime": {
     "end_time": "2024-06-26T21:29:03.658147Z",
     "start_time": "2024-06-26T21:29:03.653413Z"
    }
   },
   "source": [
    "# Q 9.12"
   ]
  },
  {
   "cell_type": "code",
   "execution_count": 56,
   "id": "5ba184d9",
   "metadata": {
    "ExecuteTime": {
     "end_time": "2024-07-03T02:33:09.061215Z",
     "start_time": "2024-07-03T02:33:03.570247Z"
    }
   },
   "outputs": [
    {
     "name": "stdout",
     "output_type": "stream",
     "text": [
      "6.74 µs ± 27.1 ns per loop (mean ± std. dev. of 7 runs, 100,000 loops each)\n"
     ]
    }
   ],
   "source": [
    "%%timeit\n",
    "A1 = 'abcdcbac'\n",
    "B1 = 'abc'\n",
    "\n",
    "def find_anagram_idx(A, B):\n",
    "    list_idx = []\n",
    "\n",
    "    n_a = len(A)\n",
    "    n_b = len(B)\n",
    "\n",
    "    if n_b>n_a:\n",
    "        return False\n",
    "\n",
    "    for idx in range(0, n_a-2):\n",
    "        idx_last = idx+n_b\n",
    "        A_check = list(A[idx: idx_last])\n",
    "        B_check = list(B)\n",
    "\n",
    "        for i in range(n_b):\n",
    "            cur_a = A_check.pop()\n",
    "            try:\n",
    "                B_check.remove(cur_a)\n",
    "            except:\n",
    "                continue\n",
    "\n",
    "            if (len(A_check)==0)&(len(B_check)==0):\n",
    "                list_idx.append(idx)\n",
    "\n",
    "    return list_idx\n",
    "\n",
    "list_idx = find_anagram_idx(A1, B1) \n",
    "list_idx"
   ]
  },
  {
   "cell_type": "code",
   "execution_count": 55,
   "id": "a8c37e7e",
   "metadata": {
    "ExecuteTime": {
     "end_time": "2024-07-03T02:33:01.383689Z",
     "start_time": "2024-07-03T02:32:58.022803Z"
    }
   },
   "outputs": [
    {
     "name": "stdout",
     "output_type": "stream",
     "text": [
      "4.11 µs ± 20.5 ns per loop (mean ± std. dev. of 7 runs, 100,000 loops each)\n"
     ]
    }
   ],
   "source": [
    "%%timeit\n",
    "\n",
    "# Solution\n",
    "def total_anagrams(A, B):\n",
    "    n, k = len(A), len(B)\n",
    "    if n<k:\n",
    "        return []\n",
    "    \n",
    "    def is_anagram(d_a, d_b):\n",
    "        for x in d_b:\n",
    "            if x not in d_a:  # key doesn't exist\n",
    "                return False \n",
    "            if d_b[x] != d_a[x]:  # count doesn't match\n",
    "                return False\n",
    "        return True\n",
    "    \n",
    "    def add(char, d):  # tracking char freq\n",
    "        if char in d:\n",
    "            d[char] += 1\n",
    "        else:\n",
    "            d[char] = 1\n",
    "        return d\n",
    "    \n",
    "    d_a, d_b = {}, {}\n",
    "    start, res = 0, []\n",
    "    for i in range(k):\n",
    "        d_a = add(A[i], d_a)  # set up dictionary for A\n",
    "        d_b = add(B[i], d_b)  # set up dictionary for B\n",
    "        \n",
    "    for i in range(k, n+1):\n",
    "        if is_anagram(d_a, d_b):\n",
    "            res.append(start)\n",
    "        if i<n:\n",
    "            d_a = add(A[i], d_a)  # add next char of window to dict\n",
    "        d_a[A[start]] -= 1\n",
    "        start += 1\n",
    "    return res\n",
    "\n",
    "list_idx = total_anagrams(A1, B1) \n",
    "list_idx"
   ]
  },
  {
   "cell_type": "markdown",
   "id": "eedda44a",
   "metadata": {},
   "source": [
    "# Q 9.13"
   ]
  },
  {
   "cell_type": "code",
   "execution_count": 19,
   "id": "59b31a89",
   "metadata": {
    "ExecuteTime": {
     "end_time": "2024-07-03T17:31:38.421799Z",
     "start_time": "2024-07-03T17:31:38.417268Z"
    }
   },
   "outputs": [],
   "source": [
    "list_check = [[1, 3], [3, 5], [4, 6], [6, 8], [8, 10], [9, 11], [11, 15]]"
   ]
  },
  {
   "cell_type": "code",
   "execution_count": 31,
   "id": "aab1fec3",
   "metadata": {
    "ExecuteTime": {
     "end_time": "2024-07-03T17:37:35.410540Z",
     "start_time": "2024-07-03T17:37:35.400486Z"
    }
   },
   "outputs": [
    {
     "name": "stdout",
     "output_type": "stream",
     "text": [
      "[[1, 3], [3, 5], [4, 6], [6, 8], [8, 10], [9, 11], [11, 15]]\n"
     ]
    },
    {
     "data": {
      "text/plain": [
       "(2, [[4, 6], [9, 11]])"
      ]
     },
     "execution_count": 31,
     "metadata": {},
     "output_type": "execute_result"
    }
   ],
   "source": [
    "def find_overlap(list_in):\n",
    "    if len(list_in)==0:\n",
    "        return 0\n",
    "    list_overlap = []\n",
    "    list_sorted = sorted(list_in)\n",
    "    print(list_sorted)\n",
    "\n",
    "    low, high, count = list_in[0][0], list_in[0][1], 0\n",
    "\n",
    "    for interv in list_sorted[1:]:\n",
    "        if high>interv[0]:  ## check high is greater than the next lower bound?\n",
    "            count = count + 1\n",
    "            list_overlap.append([interv[0], interv[1]])\n",
    "        else:\n",
    "            low, high = interv[0], interv[1]\n",
    "\n",
    "    return count, list_overlap\n",
    "\n",
    "find_overlap(list_check)"
   ]
  },
  {
   "cell_type": "code",
   "execution_count": 32,
   "id": "0b6c63e2",
   "metadata": {
    "ExecuteTime": {
     "end_time": "2024-07-03T17:37:35.537295Z",
     "start_time": "2024-07-03T17:37:35.528620Z"
    }
   },
   "outputs": [
    {
     "data": {
      "text/plain": [
       "2"
      ]
     },
     "execution_count": 32,
     "metadata": {},
     "output_type": "execute_result"
    }
   ],
   "source": [
    "def interval_removal(interval_list):\n",
    "    if len(interval_list)==0:\n",
    "        return 0\n",
    "    intervals = sorted(interval_list, key=lambda k: (k[0], k[1]))  # sort\n",
    "    res, low, count = 0,0,0\n",
    "    for high in range(1, len(intervals)):\n",
    "        if intervals[low][1]>intervals[high][0]:  # overlap\n",
    "            count += 1\n",
    "        if not intervals[high][0] < intervals[low][1] < intervals[high][1]:\n",
    "            low = high  # merge\n",
    "    return count\n",
    "\n",
    "interval_removal(list_check)"
   ]
  },
  {
   "cell_type": "markdown",
   "id": "5eb405fa",
   "metadata": {},
   "source": [
    "# Q 9.14"
   ]
  },
  {
   "cell_type": "code",
   "execution_count": 106,
   "id": "c6c02dbb",
   "metadata": {
    "ExecuteTime": {
     "end_time": "2024-07-03T18:28:33.069581Z",
     "start_time": "2024-07-03T18:28:33.055457Z"
    }
   },
   "outputs": [
    {
     "name": "stdout",
     "output_type": "stream",
     "text": [
      "['abc', 'abd', 'cab', 'bad', 'bca', 'acd']\n",
      "['abd', 'bad', 'acd']\n",
      "['acd']\n"
     ]
    },
    {
     "data": {
      "text/plain": [
       "[['abc', 'cab', 'bca'], ['abd', 'bad'], ['acd']]"
      ]
     },
     "execution_count": 106,
     "metadata": {},
     "output_type": "execute_result"
    }
   ],
   "source": [
    "def find_list_anagrams(list_in):\n",
    "    list_res = []\n",
    "\n",
    "    while len(list_in)!=0:\n",
    "        print(list_in)\n",
    "\n",
    "        list_check = []\n",
    "        cur_str = list_in[0]\n",
    "        list_check.append(cur_str)\n",
    "\n",
    "        for ano_str in list_in[1:]:\n",
    "\n",
    "            if len(cur_str)==len(ano_str):\n",
    "                d_cur = {}\n",
    "                for i in cur_str:\n",
    "                    d_cur[i] = 1\n",
    "                for j in ano_str:\n",
    "                    try:\n",
    "                        d_cur[j] = d_cur[j]+1\n",
    "                    except:\n",
    "                        break\n",
    "\n",
    "                if sum(d_cur.values())==len(cur_str)*2:\n",
    "                    list_check.append(ano_str)\n",
    "                    list_in.remove(ano_str)\n",
    "\n",
    "        list_res.append(list_check)\n",
    "        list_in.remove(cur_str)    \n",
    "\n",
    "    return(list_res)\n",
    "\n",
    "list_test = [\"abc\", \"abd\", \"cab\", \"bad\", \"bca\", \"acd\"]\n",
    "find_list_anagrams(list_test)"
   ]
  },
  {
   "cell_type": "code",
   "execution_count": 107,
   "id": "9af8732e",
   "metadata": {
    "ExecuteTime": {
     "end_time": "2024-07-03T18:28:33.206911Z",
     "start_time": "2024-07-03T18:28:33.191897Z"
    }
   },
   "outputs": [
    {
     "name": "stdout",
     "output_type": "stream",
     "text": [
      "{'a': 1, 'b': 1, 'c': 1}\n",
      "flatten cfd: a1b1c1\n",
      "cfd_str_list: {'a1b1c1': ['abc']}\n",
      "{'a': 1, 'b': 1, 'd': 1}\n",
      "flatten cfd: a1b1d1\n",
      "cfd_str_list: {'a1b1c1': ['abc'], 'a1b1d1': ['abd']}\n",
      "{'a': 1, 'b': 1, 'c': 1}\n",
      "flatten cfd: a1b1c1\n",
      "cfd_str_list: {'a1b1c1': ['abc', 'cab'], 'a1b1d1': ['abd']}\n",
      "{'a': 1, 'b': 1, 'd': 1}\n",
      "flatten cfd: a1b1d1\n",
      "cfd_str_list: {'a1b1c1': ['abc', 'cab'], 'a1b1d1': ['abd', 'bad']}\n",
      "{'a': 1, 'b': 1, 'c': 1}\n",
      "flatten cfd: a1b1c1\n",
      "cfd_str_list: {'a1b1c1': ['abc', 'cab', 'bca'], 'a1b1d1': ['abd', 'bad']}\n",
      "{'a': 1, 'c': 1, 'd': 1}\n",
      "flatten cfd: a1c1d1\n",
      "cfd_str_list: {'a1b1c1': ['abc', 'cab', 'bca'], 'a1b1d1': ['abd', 'bad'], 'a1c1d1': ['acd']}\n"
     ]
    },
    {
     "data": {
      "text/plain": [
       "[['abc', 'cab', 'bca'], ['abd', 'bad'], ['acd']]"
      ]
     },
     "execution_count": 107,
     "metadata": {},
     "output_type": "execute_result"
    }
   ],
   "source": [
    "# Solution\n",
    "def anagram_group(str_list):\n",
    "    cfd_str_list = {}  # {anagram_composition_string : {string of common anagram}}\n",
    "    for s in str_list:\n",
    "        cfd = {}  # char freq dict of s {character: frequency}\n",
    "        for c in s:\n",
    "            if c in cfd:\n",
    "                cfd[c] += 1\n",
    "            else:\n",
    "                cfd[c] = 1\n",
    "                \n",
    "        # got sorted char freq dict of s\n",
    "        cfd = dict(sorted(cfd.items()))\n",
    "        print(cfd)\n",
    "\n",
    "        # flatten cfd to cfd_str as single string\n",
    "        cfd_str = ''.join('{}{}'.format(k, v) for k, v in cfd.items())  # format\n",
    "        print(\"flatten cfd:\", cfd_str)\n",
    "        \n",
    "        # anagrams will produce idential cfd_str\n",
    "        if cfd_str not in cfd_str_list:\n",
    "            cfd_str_list[cfd_str] = [s]  # add anagram\n",
    "        else:\n",
    "            cfd_str_list[cfd_str].append(s)  # not existing anagram yet\n",
    "        print(\"cfd_str_list:\", cfd_str_list)\n",
    "        res = []\n",
    "        for cfd_str in cfd_str_list:\n",
    "            res.append(cfd_str_list[cfd_str])\n",
    "            \n",
    "    return res\n",
    "\n",
    "list_test = [\"abc\", \"abd\", \"cab\", \"bad\", \"bca\", \"acd\"]\n",
    "anagram_group(list_test)"
   ]
  },
  {
   "cell_type": "markdown",
   "id": "54c502e3",
   "metadata": {},
   "source": [
    "# Q 9.15"
   ]
  },
  {
   "cell_type": "code",
   "execution_count": 2,
   "id": "0a0b3fca",
   "metadata": {
    "ExecuteTime": {
     "end_time": "2024-07-04T17:36:11.611316Z",
     "start_time": "2024-07-04T17:36:11.605498Z"
    }
   },
   "outputs": [],
   "source": [
    "# solution\n",
    "def dfs(friends, i ,N):\n",
    "    friends.add(i)\n",
    "    for j in range(len(N[i])):  # check all neighbors of existing person\n",
    "        if N[i][j] ==1 and j not in friends:\n",
    "            dfs(friends, j, N)\n",
    "\n",
    "def count_groups(N):\n",
    "    num = len(N[0])\n",
    "    groups = 0\n",
    "    friends = set()  # tracks friend groups\n",
    "    for i in range(num):\n",
    "        if i not in friends:  # get all related groups that i is in\n",
    "            dfs(friends, i, N)\n",
    "            groups += 1\n",
    "    return groups"
   ]
  },
  {
   "cell_type": "markdown",
   "id": "2760293b",
   "metadata": {},
   "source": [
    "# Q 9.16"
   ]
  },
  {
   "cell_type": "code",
   "execution_count": 32,
   "id": "30eefc34",
   "metadata": {
    "ExecuteTime": {
     "end_time": "2024-07-04T17:49:37.329742Z",
     "start_time": "2024-07-04T17:49:37.319534Z"
    }
   },
   "outputs": [],
   "source": [
    "# solution\n",
    "class Node:\n",
    "    def __init__(self, val):\n",
    "        self.val = val\n",
    "        self.next = None\n",
    "        \n",
    "def remove(head, k):\n",
    "    def count(node, countd):  # helper function\n",
    "        if node.next is None:\n",
    "            d[1] = node  # tail\n",
    "            return 1\n",
    "        res = count(node.next, d)  # recursive call\n",
    "        d[1+res] = node  # storeres in dictionary\n",
    "        return 1+res\n",
    "    \n",
    "    d = {}\n",
    "    n = count(head, d)  # get counts\n",
    "    if k==len(d):  # tail case\n",
    "        if len(d)==1:\n",
    "            return None\n",
    "        head.next = None\n",
    "        return d[k-1]\n",
    "    \n",
    "    prev_node = d[k+1]  # get prev node\n",
    "    if k==1:\n",
    "        next_node = None\n",
    "    else:\n",
    "        next_node = d[k-1]  # get next node\n",
    "        \n",
    "    prev_node.next = next_node  # set next node\n",
    "    \n",
    "    return head\n"
   ]
  },
  {
   "cell_type": "code",
   "execution_count": 33,
   "id": "525ee349",
   "metadata": {
    "ExecuteTime": {
     "end_time": "2024-07-04T17:49:39.553126Z",
     "start_time": "2024-07-04T17:49:39.547781Z"
    }
   },
   "outputs": [
    {
     "name": "stdout",
     "output_type": "stream",
     "text": [
      "3\n",
      "2\n",
      "1\n",
      "4\n"
     ]
    }
   ],
   "source": [
    "test = Node(3)\n",
    "test.next = Node(2)\n",
    "test.next.next = Node(5)\n",
    "test.next.next.next = Node(1)\n",
    "test.next.next.next.next = Node(4)\n",
    "\n",
    "res = remove(test, 3)\n",
    "\n",
    "for i in range(1000):\n",
    "    if res.next==None:\n",
    "        print(res.val)\n",
    "        break\n",
    "    print(res.val)\n",
    "    res = res.next"
   ]
  },
  {
   "cell_type": "markdown",
   "id": "563a906b",
   "metadata": {},
   "source": [
    "# Q 9.17"
   ]
  },
  {
   "cell_type": "code",
   "execution_count": 38,
   "id": "71d633c8",
   "metadata": {
    "ExecuteTime": {
     "end_time": "2024-07-04T17:58:14.144433Z",
     "start_time": "2024-07-04T17:58:10.054015Z"
    }
   },
   "outputs": [
    {
     "data": {
      "text/plain": [
       "3.14151"
      ]
     },
     "execution_count": 38,
     "metadata": {},
     "output_type": "execute_result"
    }
   ],
   "source": [
    "# Solution\n",
    "import random\n",
    "import math\n",
    "\n",
    "count = 0  # num points inside quater circle\n",
    "n = 10000000\n",
    "\n",
    "for i in range(0, n):\n",
    "    x_sq = random.random()**2\n",
    "    y_sq = random.random()**2\n",
    "    if math.sqrt(x_sq + y_sq) < 1.0:  # check if inside circle\n",
    "        count += 1\n",
    "pi = (count/n)*4  # accounts for quarter circle\n",
    "pi"
   ]
  },
  {
   "cell_type": "markdown",
   "id": "9db83e64",
   "metadata": {},
   "source": [
    "# Q 9.18"
   ]
  },
  {
   "cell_type": "code",
   "execution_count": 196,
   "id": "378d1a18",
   "metadata": {
    "ExecuteTime": {
     "end_time": "2024-07-04T19:08:49.301136Z",
     "start_time": "2024-07-04T19:08:49.295247Z"
    }
   },
   "outputs": [
    {
     "name": "stdout",
     "output_type": "stream",
     "text": [
      "a(b((cd)e(f)g))\n",
      "ab(cd)e(f)g\n"
     ]
    }
   ],
   "source": [
    "# Solution\n",
    "def splitParen(s):\n",
    "    stk = []\n",
    "    res = [''] * len(s)\n",
    "    \n",
    "    for index, val in enumerate(s):\n",
    "        if val == '(':\n",
    "            stk.append(index)\n",
    "        elif val == ')':\n",
    "            if stk:\n",
    "                latest = stk.pop()  # pop the latest corresponding left paren\n",
    "                res[latest] = s[latest]  # or '('\n",
    "                res[index] = val  # or ')'\n",
    "        else:\n",
    "            res[index] = val\n",
    "    return ''.join(res)\n",
    "\n",
    "string = \")a(b((cd)e(f)g))(\"\n",
    "print(splitParen(string))\n",
    "string = \")a(b((cd)e(f)g(\"\n",
    "print(splitParen(string))"
   ]
  },
  {
   "cell_type": "markdown",
   "id": "38eafaca",
   "metadata": {},
   "source": [
    "# Q 9.19"
   ]
  },
  {
   "cell_type": "code",
   "execution_count": 207,
   "id": "97bcf06e",
   "metadata": {
    "ExecuteTime": {
     "end_time": "2024-07-04T19:25:51.394143Z",
     "start_time": "2024-07-04T19:25:51.388702Z"
    }
   },
   "outputs": [],
   "source": [
    "# solution\n",
    "def permute(list_nums):\n",
    "    res = []  # store results\n",
    "    n = len(list_nums)\n",
    "    if n<=1:\n",
    "        return [list_nums]\n",
    "    else:\n",
    "        for i in range(n):  # this is the element E\n",
    "            # recurse on previous comps\n",
    "            for comp in permute(list_nums[:i]+list_nums[i+1:]):\n",
    "                res.append([list_nums[i]]+comp)\n",
    "    return res"
   ]
  },
  {
   "cell_type": "code",
   "execution_count": 219,
   "id": "00de6b44",
   "metadata": {
    "ExecuteTime": {
     "end_time": "2024-07-04T19:32:28.313432Z",
     "start_time": "2024-07-04T19:32:28.303949Z"
    }
   },
   "outputs": [
    {
     "name": "stdout",
     "output_type": "stream",
     "text": [
      "3! = 6\n"
     ]
    },
    {
     "data": {
      "text/plain": [
       "[[2, 3, 4], [2, 4, 3], [3, 2, 4], [3, 4, 2], [4, 2, 3], [4, 3, 2]]"
      ]
     },
     "execution_count": 219,
     "metadata": {},
     "output_type": "execute_result"
    }
   ],
   "source": [
    "list_in = [2, 3, 4]\n",
    "res = permute(list_in)\n",
    "print(f\"{len(list_in)}! = {len(res)}\")\n",
    "res"
   ]
  },
  {
   "cell_type": "code",
   "execution_count": 218,
   "id": "59941b91",
   "metadata": {
    "ExecuteTime": {
     "end_time": "2024-07-04T19:32:19.678581Z",
     "start_time": "2024-07-04T19:32:19.670520Z"
    },
    "scrolled": true
   },
   "outputs": [
    {
     "name": "stdout",
     "output_type": "stream",
     "text": [
      "4! = 24\n"
     ]
    },
    {
     "data": {
      "text/plain": [
       "[[2, 3, 4, 5],\n",
       " [2, 3, 5, 4],\n",
       " [2, 4, 3, 5],\n",
       " [2, 4, 5, 3],\n",
       " [2, 5, 3, 4],\n",
       " [2, 5, 4, 3],\n",
       " [3, 2, 4, 5],\n",
       " [3, 2, 5, 4],\n",
       " [3, 4, 2, 5],\n",
       " [3, 4, 5, 2],\n",
       " [3, 5, 2, 4],\n",
       " [3, 5, 4, 2],\n",
       " [4, 2, 3, 5],\n",
       " [4, 2, 5, 3],\n",
       " [4, 3, 2, 5],\n",
       " [4, 3, 5, 2],\n",
       " [4, 5, 2, 3],\n",
       " [4, 5, 3, 2],\n",
       " [5, 2, 3, 4],\n",
       " [5, 2, 4, 3],\n",
       " [5, 3, 2, 4],\n",
       " [5, 3, 4, 2],\n",
       " [5, 4, 2, 3],\n",
       " [5, 4, 3, 2]]"
      ]
     },
     "execution_count": 218,
     "metadata": {},
     "output_type": "execute_result"
    }
   ],
   "source": [
    "list_in = [2, 3, 4, 5]\n",
    "res = permute(list_in)\n",
    "print(f\"{len(list_in)}! = {len(res)}\")\n",
    "res"
   ]
  },
  {
   "cell_type": "markdown",
   "id": "c3888348",
   "metadata": {},
   "source": [
    "# Q 9.20"
   ]
  },
  {
   "cell_type": "code",
   "execution_count": null,
   "id": "44c41610",
   "metadata": {},
   "outputs": [],
   "source": []
  },
  {
   "cell_type": "code",
   "execution_count": null,
   "id": "85a8a825",
   "metadata": {},
   "outputs": [],
   "source": []
  },
  {
   "cell_type": "markdown",
   "id": "3245a86e",
   "metadata": {},
   "source": [
    "# Q 9.21"
   ]
  },
  {
   "cell_type": "markdown",
   "id": "cf35e495",
   "metadata": {},
   "source": [
    "# Q 9.22"
   ]
  },
  {
   "cell_type": "markdown",
   "id": "af34aa80",
   "metadata": {},
   "source": [
    "# Q 9.23"
   ]
  },
  {
   "cell_type": "markdown",
   "id": "2ff740f0",
   "metadata": {},
   "source": [
    "# Q 9.24"
   ]
  },
  {
   "cell_type": "markdown",
   "id": "6f06e824",
   "metadata": {},
   "source": [
    "# Q 9.25"
   ]
  },
  {
   "cell_type": "code",
   "execution_count": null,
   "id": "e5d902f2",
   "metadata": {},
   "outputs": [],
   "source": []
  }
 ],
 "metadata": {
  "kernelspec": {
   "display_name": "Python 3 (ipykernel)",
   "language": "python",
   "name": "python3"
  },
  "language_info": {
   "codemirror_mode": {
    "name": "ipython",
    "version": 3
   },
   "file_extension": ".py",
   "mimetype": "text/x-python",
   "name": "python",
   "nbconvert_exporter": "python",
   "pygments_lexer": "ipython3",
   "version": "3.9.6"
  },
  "toc": {
   "base_numbering": 1,
   "nav_menu": {},
   "number_sections": false,
   "sideBar": true,
   "skip_h1_title": false,
   "title_cell": "Table of Contents",
   "title_sidebar": "Contents",
   "toc_cell": false,
   "toc_position": {
    "height": "calc(100% - 180px)",
    "left": "10px",
    "top": "150px",
    "width": "165px"
   },
   "toc_section_display": true,
   "toc_window_display": true
  }
 },
 "nbformat": 4,
 "nbformat_minor": 5
}
