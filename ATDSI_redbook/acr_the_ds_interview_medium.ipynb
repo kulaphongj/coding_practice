{
 "cells": [
  {
   "cell_type": "markdown",
   "id": "a23a58ea",
   "metadata": {},
   "source": [
    "# Medium"
   ]
  },
  {
   "cell_type": "markdown",
   "id": "f0c3c0d2",
   "metadata": {},
   "source": [
    "# Q 9.7"
   ]
  },
  {
   "cell_type": "code",
   "execution_count": 2,
   "id": "bc873cee",
   "metadata": {
    "ExecuteTime": {
     "end_time": "2024-06-30T23:41:30.020963Z",
     "start_time": "2024-06-30T23:41:30.010252Z"
    }
   },
   "outputs": [
    {
     "data": {
      "text/plain": [
       "[1, 3]"
      ]
     },
     "execution_count": 2,
     "metadata": {},
     "output_type": "execute_result"
    }
   ],
   "source": [
    "def find_peak(arr):\n",
    "    n = len(arr)\n",
    "    list_peak = []\n",
    "    for i in range(1, n-1):\n",
    "        if (arr[i-1]<arr[i])&(arr[i+1]<arr[i]):\n",
    "            list_peak.append(i)\n",
    "\n",
    "    return list_peak\n",
    "\n",
    "arr = [3, 5, 2, 4, 1]\n",
    "find_peak(arr)"
   ]
  },
  {
   "cell_type": "code",
   "execution_count": 4,
   "id": "34361c21",
   "metadata": {
    "ExecuteTime": {
     "end_time": "2024-06-30T23:41:34.654386Z",
     "start_time": "2024-06-30T23:41:34.643738Z"
    }
   },
   "outputs": [
    {
     "data": {
      "text/plain": [
       "3"
      ]
     },
     "execution_count": 4,
     "metadata": {},
     "output_type": "execute_result"
    }
   ],
   "source": [
    "# Solution\n",
    "def get_peak(arr):\n",
    "    start = 0\n",
    "    end = len(arr)-1\n",
    "    while True:\n",
    "        mid = (start + end) // 2\n",
    "        left = arr[mid-1] if mid-1 >= 0 else float('-inf')\n",
    "        right = arr[mid+1] if mid+1 < len(arr) else float('-inf')\n",
    "        if left < arr[mid] and right <  arr[mid]:\n",
    "            return mid\n",
    "        elif arr[mid] < right:\n",
    "            start = mid + 1\n",
    "        else:\n",
    "            end = mid-1\n",
    "arr = [3, 5, 2, 4, 1]\n",
    "get_peak(arr)"
   ]
  },
  {
   "cell_type": "markdown",
   "id": "fcf97d40",
   "metadata": {},
   "source": [
    "\n",
    "# Q 9.8"
   ]
  },
  {
   "cell_type": "code",
   "execution_count": 37,
   "id": "c9448c6f",
   "metadata": {
    "ExecuteTime": {
     "end_time": "2024-06-26T21:35:03.711962Z",
     "start_time": "2024-06-26T21:35:03.699828Z"
    }
   },
   "outputs": [
    {
     "name": "stdout",
     "output_type": "stream",
     "text": [
      "0.9863939238321437\n",
      "-0.8240419241993676\n"
     ]
    }
   ],
   "source": [
    "def cal_corr(x, y):\n",
    "    len_x = len(x)\n",
    "    mean_x = sum(x)/len_x\n",
    "\n",
    "    len_y = len(y)\n",
    "    mean_y = sum(y)/len_y\n",
    "\n",
    "    dif_x = [i-mean_x for i in x]\n",
    "    dif_y = [i-mean_y for i in y]\n",
    "\n",
    "    list_dif_xy = []\n",
    "    for i in range(len_x):\n",
    "        list_dif_xy.append(dif_x[i]*dif_y[i])\n",
    "    sum_dif_xy = sum(list_dif_xy)\n",
    "\n",
    "\n",
    "    dif_x2 = [(i-mean_x)**2 for i in x]\n",
    "    dif_y2 = [(i-mean_y)**2 for i in y]\n",
    "\n",
    "    divider = (sum(dif_x2)*sum(dif_y2))**0.5\n",
    "\n",
    "    cor = sum_dif_xy/divider\n",
    "    return cor\n",
    "\n",
    "x1 = [1,2,3,4,5]\n",
    "y1 = [2,4,5,6,7]\n",
    "y2 = [5,4,3,2,-10]\n",
    "print(cal_corr(x1, y1))\n",
    "print(cal_corr(x1, y2))"
   ]
  },
  {
   "cell_type": "code",
   "execution_count": 10,
   "id": "d199528c",
   "metadata": {
    "ExecuteTime": {
     "end_time": "2024-07-01T00:00:56.063834Z",
     "start_time": "2024-07-01T00:00:56.055835Z"
    }
   },
   "outputs": [
    {
     "name": "stdout",
     "output_type": "stream",
     "text": [
      "0.9863939238321436\n",
      "-0.8240419241993675\n"
     ]
    }
   ],
   "source": [
    "# Solution\n",
    "import math\n",
    "\n",
    "def mean(x):\n",
    "    return sum(x)/len(x)\n",
    "\n",
    "def sd(x):\n",
    "    m = mean(x)\n",
    "    ss = sum((i-m)**2 for i in x)\n",
    "    return math.sqrt(ss/len(x))\n",
    "\n",
    "def corr(x, y):\n",
    "    x_m = mean(x)\n",
    "    y_m = mean(y)\n",
    "    xy_d = []\n",
    "    for i in range(len(x)):\n",
    "        x_d = x[i]-x_m\n",
    "        y_d = y[i]-y_m\n",
    "        xy_d.append(x_d*y_d)\n",
    "    return mean(xy_d)/(sd(x)*sd(y))\n",
    "\n",
    "x1 = [1,2,3,4,5]\n",
    "y1 = [2,4,5,6,7]\n",
    "y2 = [5,4,3,2,-10]\n",
    "print(corr(x1, y1))\n",
    "print(corr(x1, y2))"
   ]
  },
  {
   "cell_type": "markdown",
   "id": "1adb17a9",
   "metadata": {
    "ExecuteTime": {
     "end_time": "2024-06-26T21:28:58.163773Z",
     "start_time": "2024-06-26T21:28:58.160952Z"
    }
   },
   "source": [
    "# Q 9.9"
   ]
  },
  {
   "cell_type": "code",
   "execution_count": 54,
   "id": "921045da",
   "metadata": {
    "ExecuteTime": {
     "end_time": "2024-07-01T00:25:31.947514Z",
     "start_time": "2024-07-01T00:25:31.941572Z"
    }
   },
   "outputs": [],
   "source": [
    "# Solution\n",
    "class TreeNode:\n",
    "    def __init__(self, val):\n",
    "        self.val = val\n",
    "        self.left = None\n",
    "        self.right = None\n",
    "        \n",
    "t = TreeNode(1)\n",
    "t.left = TreeNode(2)\n",
    "t.left.left = TreeNode(4)\n",
    "t.left.right = TreeNode(5)\n",
    "t.left.left.left = TreeNode(7)\n",
    "\n",
    "t.right = TreeNode(3)\n",
    "t.right.right = TreeNode(6)\n",
    "\n",
    "        \n",
    "def cal_diameter(root):\n",
    "    def depth(root, diameter):\n",
    "        if root is None:\n",
    "            return 0, diameter\n",
    "        \n",
    "        c_left, diameter = depth(root.left, diameter)\n",
    "        c_right, diameter = depth(root.right, diameter)\n",
    "        diameter = max(diameter, c_left + c_right)\n",
    "        return max(c_left, c_right)+1, diameter\n",
    "        \n",
    "    depth, diameter = depth(root, 0)\n",
    "    \n",
    "    return diameter"
   ]
  },
  {
   "cell_type": "code",
   "execution_count": 70,
   "id": "6b951887",
   "metadata": {
    "ExecuteTime": {
     "end_time": "2024-07-01T00:39:38.705156Z",
     "start_time": "2024-07-01T00:39:38.698359Z"
    }
   },
   "outputs": [
    {
     "data": {
      "text/plain": [
       "5"
      ]
     },
     "execution_count": 70,
     "metadata": {},
     "output_type": "execute_result"
    }
   ],
   "source": [
    "# ```mermaid\n",
    "# graph TreeNode;\n",
    "#     1-->2;\n",
    "#     1-->3;\n",
    "#     2-->4;\n",
    "#     2-->5;\n",
    "#     4-->7;\n",
    "#     3-->6;\n",
    "# ```\n",
    "t = TreeNode(1)\n",
    "t.left = TreeNode(2)\n",
    "t.left.left = TreeNode(4)\n",
    "t.left.right = TreeNode(5)\n",
    "t.left.left.left = TreeNode(7)\n",
    "\n",
    "t.right = TreeNode(3)\n",
    "t.right.right = TreeNode(6)\n",
    "\n",
    "cal_diameter(t)"
   ]
  },
  {
   "cell_type": "code",
   "execution_count": 67,
   "id": "5a54dc49",
   "metadata": {
    "ExecuteTime": {
     "end_time": "2024-07-01T00:28:05.421385Z",
     "start_time": "2024-07-01T00:28:05.411610Z"
    }
   },
   "outputs": [
    {
     "data": {
      "text/plain": [
       "5"
      ]
     },
     "execution_count": 67,
     "metadata": {},
     "output_type": "execute_result"
    }
   ],
   "source": [
    "# Solution class to find the diameter of the binary tree\n",
    "def diameterOfBinaryTree(root):\n",
    "    # Initialize the variable to store the diameter of the tree\n",
    "    diameter = [0]\n",
    "    # Call the height function to traverse the tree and calculate diameter\n",
    "    height(root, diameter)\n",
    "    # Return the calculated diameter\n",
    "    return diameter[0]\n",
    "\n",
    "# Function to calculate the height of the tree and update the diameter\n",
    "def height(node, diameter):\n",
    "    # Base case: If the node is None, return 0 indicating the height of an empty tree\n",
    "    if not node:\n",
    "        return 0\n",
    "\n",
    "    # Recursively calculate the height of left and right subtrees\n",
    "    lh = height(node.left, diameter)\n",
    "    rh = height(node.right, diameter)\n",
    "\n",
    "    # Update the diameter with the maximum of current diameter or sum of left and right heights\n",
    "    diameter[0] = max(diameter[0], lh + rh)\n",
    "\n",
    "    # Return the height of the current node's subtree\n",
    "    return 1 + max(lh, rh)\n",
    "\n",
    "\n",
    "diameterOfBinaryTree(t)"
   ]
  },
  {
   "cell_type": "markdown",
   "id": "a2566643",
   "metadata": {
    "ExecuteTime": {
     "end_time": "2024-06-26T21:29:00.032768Z",
     "start_time": "2024-06-26T21:29:00.029887Z"
    }
   },
   "source": [
    "# Q 9.10"
   ]
  },
  {
   "cell_type": "code",
   "execution_count": null,
   "id": "75dc8a25",
   "metadata": {},
   "outputs": [],
   "source": [
    "# Solution"
   ]
  },
  {
   "cell_type": "markdown",
   "id": "aa9b5a8c",
   "metadata": {
    "ExecuteTime": {
     "end_time": "2024-06-26T21:29:02.010113Z",
     "start_time": "2024-06-26T21:29:02.007284Z"
    }
   },
   "source": [
    "# Q 9.11\n"
   ]
  },
  {
   "cell_type": "code",
   "execution_count": null,
   "id": "5d611961",
   "metadata": {},
   "outputs": [],
   "source": [
    "# Solution"
   ]
  },
  {
   "cell_type": "markdown",
   "id": "76d5cc0a",
   "metadata": {
    "ExecuteTime": {
     "end_time": "2024-06-26T21:29:03.658147Z",
     "start_time": "2024-06-26T21:29:03.653413Z"
    }
   },
   "source": [
    "# Q 9.12"
   ]
  },
  {
   "cell_type": "code",
   "execution_count": null,
   "id": "37004a38",
   "metadata": {},
   "outputs": [],
   "source": []
  },
  {
   "cell_type": "code",
   "execution_count": null,
   "id": "a8c37e7e",
   "metadata": {},
   "outputs": [],
   "source": [
    "# Solution"
   ]
  }
 ],
 "metadata": {
  "kernelspec": {
   "display_name": "Python 3 (ipykernel)",
   "language": "python",
   "name": "python3"
  },
  "language_info": {
   "codemirror_mode": {
    "name": "ipython",
    "version": 3
   },
   "file_extension": ".py",
   "mimetype": "text/x-python",
   "name": "python",
   "nbconvert_exporter": "python",
   "pygments_lexer": "ipython3",
   "version": "3.9.6"
  },
  "toc": {
   "base_numbering": 1,
   "nav_menu": {},
   "number_sections": false,
   "sideBar": true,
   "skip_h1_title": false,
   "title_cell": "Table of Contents",
   "title_sidebar": "Contents",
   "toc_cell": false,
   "toc_position": {
    "height": "calc(100% - 180px)",
    "left": "10px",
    "top": "150px",
    "width": "165px"
   },
   "toc_section_display": true,
   "toc_window_display": true
  }
 },
 "nbformat": 4,
 "nbformat_minor": 5
}
